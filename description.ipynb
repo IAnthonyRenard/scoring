{
 "cells": [
  {
   "cell_type": "markdown",
   "id": "ac6c1b25-535a-4c0e-a0c4-50cbb23bcbde",
   "metadata": {
    "extensions": {
     "jupyter_dashboards": {
      "activeView": "grid_default",
      "views": {
       "grid_default": {
        "col": null,
        "height": 2,
        "hidden": true,
        "locked": true,
        "row": null,
        "width": 2
       }
      }
     }
    },
    "jp-MarkdownHeadingCollapsed": true,
    "tags": []
   },
   "source": [
    "# Projet 4 : Construction d’un modèle de scoring\n",
    "\n",
    "<center><img alt=\"scoring\" src=\"images/scoring.png\"/></center>\n"
   ]
  },
  {
   "cell_type": "markdown",
   "id": "dacdd4d4-78d7-4e58-816a-3726ddec9547",
   "metadata": {
    "jp-MarkdownHeadingCollapsed": true,
    "tags": []
   },
   "source": [
    "# 1. INTRODUCTION\n",
    "## Contexte\n",
    "\n",
    "Les données sont fournies par Home Credit, un service dédié aux prêts bancaires destiné à la population non bancarisée. Prédire si un client remboursera ou non un prêt ou aura des difficultés est un besoin commercial essentiel\n",
    "\n",
    "<center><img alt=\"home-credit\" src=\"images/homecredit.png\"/></center>\n",
    "    \n",
    "## Objectif \n",
    "Créer un outil de scoring pour prédire si un client remboursera ou non un prêt ou rencontrera des difficultés à honorer sa dette.\n",
    "\n"
   ]
  },
  {
   "cell_type": "markdown",
   "id": "5ca584e7-2cc9-4de8-b80a-7eb950ef0bb2",
   "metadata": {
    "extensions": {
     "jupyter_dashboards": {
      "activeView": "grid_default",
      "views": {
       "grid_default": {
        "col": null,
        "height": 2,
        "hidden": true,
        "locked": true,
        "row": null,
        "width": 2
       }
      }
     }
    },
    "tags": []
   },
   "source": [
    "# 2. Démarche méthodologique\n",
    "\n",
    "Dans un premier temps, je vais <a href=\"projet4.ipynb#C313\">charger</a> le fichier source qui sera être notre point d'entrée. Ensuite je ferai un **inventaire** et un **nettoyage** du jeu de données afin d'avoir un dataset \"propre\" pour l'analyse des données et la création des modèles. Après des analyses multivariées et univariées, je configurerait le jeu de donnée (split, encodage, standardisation,...) afin de pouvoir travailler sur différents modèles. Enfin, je finirai par une phase d'optimisation du modèle : \n",
    "<center><img alt=\"demarche\" src=\"images/demarche.png\"/></center>"
   ]
  },
  {
   "cell_type": "markdown",
   "id": "17226077-1517-43d9-b1ab-432602828df1",
   "metadata": {
    "extensions": {
     "jupyter_dashboards": {
      "activeView": "grid_default",
      "views": {
       "grid_default": {
        "col": null,
        "height": 2,
        "hidden": true,
        "locked": true,
        "row": null,
        "width": 2
       }
      }
     }
    },
    "tags": []
   },
   "source": [
    "# 3. Exploration des données"
   ]
  },
  {
   "cell_type": "markdown",
   "id": "9aaec49f-6ea7-4190-b923-8f6b4800eac9",
   "metadata": {
    "tags": []
   },
   "source": [
    "## <a href=\"projet3.ipynb#C31\">3.1 Chargement<a>"
   ]
  },
  {
   "cell_type": "markdown",
   "id": "ca439f4f-5edf-40a3-a4e4-30e44dc2eb7c",
   "metadata": {},
   "source": [
    "Chargement du fichier CSV, des librairies et des fonctions utiles. "
   ]
  },
  {
   "cell_type": "markdown",
   "id": "96dd54ea-31f7-4477-b95e-7be6d65f531c",
   "metadata": {
    "extensions": {
     "jupyter_dashboards": {
      "activeView": "grid_default",
      "views": {
       "grid_default": {
        "col": null,
        "height": 2,
        "hidden": true,
        "locked": true,
        "row": null,
        "width": 2
       }
      }
     }
    },
    "tags": []
   },
   "source": [
    "## 3.2 Présentation de la structure"
   ]
  },
  {
   "cell_type": "markdown",
   "id": "28a08174-bd20-45e2-a430-0a0613d7b028",
   "metadata": {
    "extensions": {
     "jupyter_dashboards": {
      "activeView": "grid_default",
      "views": {
       "grid_default": {
        "col": null,
        "height": 2,
        "hidden": true,
        "locked": true,
        "row": null,
        "width": 2
       }
      }
     }
    },
    "tags": []
   },
   "source": [
    "###  <a href=\"projet3.ipynb#C321\">3.2.1 Nombre de lignes et de colonnes et types<a>"
   ]
  },
  {
   "cell_type": "markdown",
   "id": "1ef05112-1329-4a52-80c9-3e60934125d4",
   "metadata": {
    "extensions": {
     "jupyter_dashboards": {
      "activeView": "grid_default",
      "views": {
       "grid_default": {
        "col": null,
        "height": 2,
        "hidden": true,
        "locked": true,
        "row": null,
        "width": 2
       }
      }
     }
    },
    "jp-MarkdownHeadingCollapsed": true,
    "tags": []
   },
   "source": [
    "Nous avons en notre possession 9 dataframes. Voici leur configuration après leur <a href=\"projet4.ipynb#C313\">chargement<a> : <br> \n",
    "\n",
    "\n",
    "<table>\n",
    "      <tr>\n",
    "        <th><center>N°</center></th>\n",
    "        <th><center>Nom</center></th>\n",
    "        <th><center>Nombre de lignes</center></th>\n",
    "        <th><center>Nombre de colonnes</center></th>\n",
    "        <th><center>Type float</center></th>\n",
    "        <th><center>Type int</center></th>\n",
    "        <th><center>Type objet</center></th>\n",
    "      </tr>\n",
    "      <tr>\n",
    "        <td><center>1</center></td>\n",
    "        <td><center>df_application_test</center></td>\n",
    "        <td><center>48 744</center></td>\n",
    "        <td><center>121</center></td>\n",
    "        <td><center>65</center></td>\n",
    "        <td><center>40</center></td>\n",
    "        <td><center>16</center></td>\n",
    "      </tr>\n",
    "       <tr>\n",
    "        <td><center>2</center></td>\n",
    "        <td><center>df_application_train</center></td>\n",
    "        <td><center>307 511</center></td>\n",
    "        <td><center>122</center></td>\n",
    "        <td><center>65</center></td>\n",
    "        <td><center>41</center></td>\n",
    "        <td><center>16</center></td>\n",
    "      </tr>\n",
    "       <tr>\n",
    "        <td><center>3</center></td>\n",
    "        <td><center>df_bureau</center></td>\n",
    "        <td><center>1 716 428</center></td>\n",
    "        <td><center>17</center></td>\n",
    "        <td><center>8</center></td>\n",
    "        <td><center>6</center></td>\n",
    "        <td><center>3</center></td>\n",
    "      </tr>\n",
    "         <tr>\n",
    "        <td><center>4</center></td>\n",
    "        <td><center>df_bureau_balance</center></td>\n",
    "        <td><center>27 299 925</center></td>\n",
    "        <td><center>3</center></td>\n",
    "        <td><center>0</center></td>\n",
    "        <td><center>2</center></td>\n",
    "        <td><center>1</center></td>\n",
    "      </tr>\n",
    "         <tr>\n",
    "        <td><center>5</center></td>\n",
    "        <td><center>df_credit_card_balance</center></td>\n",
    "        <td><center>3 840 312</center></td>\n",
    "        <td><center>23</center></td>\n",
    "        <td><center>15</center></td>\n",
    "        <td><center>7</center></td>\n",
    "        <td><center>1</center></td>\n",
    "      </tr>\n",
    "      <tr>\n",
    "        <td><center>6</center></td>\n",
    "        <td><center>df_installments_payments</center></td>\n",
    "        <td><center>13 605 401</center></td>\n",
    "        <td><center>8</center></td>\n",
    "        <td><center>5</center></td>\n",
    "        <td><center>3</center></td>\n",
    "        <td><center>0</center></td>\n",
    "      </tr>\n",
    "      <tr>\n",
    "        <td><center>7</center></td>\n",
    "        <td><center>df_POS_CASH_balance</center></td>\n",
    "        <td><center>10 001 358</center></td>\n",
    "        <td><center>8</center></td>\n",
    "        <td><center>2</center></td>\n",
    "        <td><center>5</center></td>\n",
    "        <td><center>1</center></td>\n",
    "      </tr>\n",
    "      <tr>\n",
    "        <td><center>8</center></td>\n",
    "        <td><center>df_previous_application</center></td>\n",
    "        <td><center>1 670 214</center></td>\n",
    "        <td><center>37</center></td>\n",
    "        <td><center>15</center></td>\n",
    "        <td><center>6</center></td>\n",
    "        <td><center>16</center></td>\n",
    "      </tr>\n",
    "      <tr>\n",
    "        <td><center>9</center></td>\n",
    "        <td><center>df_sample_submission</center></td>\n",
    "        <td><center>48 744</center></td>\n",
    "        <td><center>2</center></td>\n",
    "        <td><center>1</center></td>\n",
    "        <td><center>1</center></td>\n",
    "        <td><center>0</center></td>\n",
    "      </tr>\n",
    "      <tr>\n",
    "        <td><center></center></td>\n",
    "        <td><center><b>TOTAL</b></center></td>\n",
    "        <td><center><b>58 538 637</b></center></td>\n",
    "        <td><center><b>341</b></center></td>\n",
    "        <td><center><b>176</b></center></td>\n",
    "        <td><center><b>111</b></center></td>\n",
    "        <td><center><b>54</b></center></td>\n",
    "      </tr> \n",
    "</table><br>\n",
    "PS :  La dataframe \"df_HomeCredit_columns_description\" est fournie pour la description des colonnes et qui ne servira donc pas de dataset."
   ]
  },
  {
   "cell_type": "markdown",
   "id": "fc4f0d10-9b1b-41d3-a4e2-a8152a0bfd52",
   "metadata": {},
   "source": [
    "###  <a href=\"projet3.ipynb#C322\">3.2.2 Liens entre les dataframes<a>"
   ]
  },
  {
   "cell_type": "markdown",
   "id": "5ff86546-77c7-4145-90ed-09117bbb2a1b",
   "metadata": {},
   "source": [
    "<center><img alt=\"liens\" src=\"images/lien.png\"/></center>"
   ]
  },
  {
   "cell_type": "markdown",
   "id": "0eb672f1-fe5e-4cdd-989d-e68ef378f580",
   "metadata": {},
   "source": [
    "Remarque : \"df_sample_submission\" (non présente dans le schéma ci-dessus), contient la « target » = 0,5 (pour toutes les lignes) de \"df_application_test\". Pour une problématique de classification supervisée (entrainement par rapport à des valeurs que l’on connait), cette target est inexploitable. Au vu du nombre important de lignes dans \"df_application_train\" (307511) on va pouvoir utiliser cette dataframe pour base de travail que l'on redécoupera en \"train\" et \"test\". \n"
   ]
  },
  {
   "cell_type": "markdown",
   "id": "83dc842d-a364-424b-984d-0097a24bccfa",
   "metadata": {
    "tags": []
   },
   "source": [
    "## 3.3 Nettoyage"
   ]
  },
  {
   "cell_type": "markdown",
   "id": "fa8782d8-6978-43ba-bef5-ae16954e6ee8",
   "metadata": {
    "extensions": {
     "jupyter_dashboards": {
      "activeView": "grid_default",
      "views": {
       "grid_default": {
        "col": null,
        "height": 2,
        "hidden": true,
        "locked": true,
        "row": null,
        "width": 2
       }
      }
     }
    },
    "tags": []
   },
   "source": [
    "### <a href=\"projet4.ipynb#C331\"> 3.3.1 Suppression des colonnes inutiles d'un point de vue métier<a>"
   ]
  },
  {
   "cell_type": "markdown",
   "id": "c1030aae-7bd5-4c9d-bc99-52893d2c8ce7",
   "metadata": {},
   "source": [
    "Certaines colonnes ne vont pas servir à déterminer si un prêt peut être accordé ou non. Par exemple \"FLAG_MOBIL\" détermine si le client a fourni sont numéro de téléphone ou non. J'ai donc mis de côté 37 colonnes (voir code pour la liste)."
   ]
  },
  {
   "cell_type": "markdown",
   "id": "89391132-eb3d-4266-84f2-93eb90c442ce",
   "metadata": {
    "extensions": {
     "jupyter_dashboards": {
      "activeView": "grid_default",
      "views": {
       "grid_default": {
        "col": null,
        "height": 2,
        "hidden": true,
        "locked": true,
        "row": null,
        "width": 2
       }
      }
     }
    },
    "tags": []
   },
   "source": [
    "### <a href=\"projet4.ipynb#C332\"> 3.3.2 Les manquants<a>"
   ]
  },
  {
   "cell_type": "markdown",
   "id": "e01126df-8472-40b8-95e0-8238c17a6240",
   "metadata": {
    "extensions": {
     "jupyter_dashboards": {
      "activeView": "grid_default",
      "views": {
       "grid_default": {
        "col": null,
        "height": 2,
        "hidden": true,
        "locked": true,
        "row": null,
        "width": 2
       }
      }
     }
    },
    "tags": []
   },
   "source": [
    "Les colonnes suivantes présentes des valeurs manquantes : \n",
    "\n",
    "<table>\n",
    "      <tr>\n",
    "        <th><center>N°</center></th>\n",
    "        <th><center>Nom</center></th>\n",
    "        <th><center>Quantité</center></th>\n",
    "        <th><center>Pourcentage</center></th>\n",
    "      </tr>\n",
    "      <tr>\n",
    "        <td><center>1</center></td>\n",
    "        <td><center>OWN_CAR_AGE</center></td>\n",
    "        <td><center>202929</center></td>\n",
    "        <td><center>65.99</center></td>\n",
    "      </tr>\n",
    "       <tr>\n",
    "        <td><center>2</center></td>\n",
    "        <td><center>EXT_SOURCE_1</center></td>\n",
    "        <td><center>173378</center></td>\n",
    "        <td><center>56.38</center></td>\n",
    "      </tr>\n",
    "       <tr>\n",
    "        <td><center>3</center></td>\n",
    "        <td><center>OCCUPATION_TYPE</center></td>\n",
    "        <td><center>96391</center></td>\n",
    "        <td><center>31.35</center></td>\n",
    "      </tr>\n",
    "         <tr>\n",
    "        <td><center>4</center></td>\n",
    "        <td><center>EXT_SOURCE_3</center></td>\n",
    "        <td><center>60965</center></td>\n",
    "        <td><center>19.83</center></td>\n",
    "      </tr>\n",
    "         <tr>\n",
    "        <td><center>5</center></td>\n",
    "        <td><center>AMT_REQ_CREDIT_BUREAU_YEAR</center></td>\n",
    "        <td><center>41519</center></td>\n",
    "        <td><center>13.50</center></td>\n",
    "      </tr>\n",
    "      <tr>\n",
    "        <td><center>6</center></td>\n",
    "        <td><center>AMT_REQ_CREDIT_BUREAU_QRT</center></td>\n",
    "        <td><center>41519</center></td>\n",
    "        <td><center>13.50</center></td>\n",
    "      </tr>\n",
    "      <tr>\n",
    "        <td><center>7</center></td>\n",
    "        <td><center>AMT_REQ_CREDIT_BUREAU_MON</center></td>\n",
    "        <td><center>41519</center></td>\n",
    "        <td><center>13.50</center></td>\n",
    "      </tr>\n",
    "     <tr>\n",
    "        <td><center>8</center></td>\n",
    "        <td><center>AMT_REQ_CREDIT_BUREAU_WEEK</center></td>\n",
    "        <td><center>41519</center></td>\n",
    "        <td><center>13.50</center></td>\n",
    "      </tr>\n",
    "      <tr>\n",
    "        <td><center>9</center></td>\n",
    "        <td><center>AMT_REQ_CREDIT_BUREAU_DAY</center></td>\n",
    "        <td><center>41519</center></td>\n",
    "        <td><center>13.50</center></td>\n",
    "      </tr>\n",
    "    <tr>\n",
    "        <td><center>10</center></td>\n",
    "        <td><center>AMT_REQ_CREDIT_BUREAU_HOUR</center></td>\n",
    "        <td><center>41519</center></td>\n",
    "        <td><center>13.50</center></td>\n",
    "      </tr>\n",
    "        <tr>\n",
    "        <td><center>11</center></td>\n",
    "        <td><center>DEF_60_CNT_SOCIAL_CIRCLE</center></td>\n",
    "        <td><center>1021</center></td>\n",
    "        <td><center>0.33</center></td>\n",
    "      </tr>\n",
    "        <tr>\n",
    "        <td><center>12</center></td>\n",
    "        <td><center>DEF_30_CNT_SOCIAL_CIRCLE</center></td>\n",
    "        <td><center>1021</center></td>\n",
    "        <td><center>0.33</center></td>\n",
    "      </tr>\n",
    "        <tr>\n",
    "        <td><center>13</center></td>\n",
    "        <td><center>OBS_60_CNT_SOCIAL_CIRCLE</center></td>\n",
    "        <td><center>1021</center></td>\n",
    "        <td><center>0.33</center></td>\n",
    "      </tr>\n",
    "    <tr>\n",
    "        <td><center>14</center></td>\n",
    "        <td><center>OBS_30_CNT_SOCIAL_CIRCLE</center></td>\n",
    "        <td><center>1021</center></td>\n",
    "        <td><center>0.33</center></td>\n",
    "      </tr>\n",
    "        <tr>\n",
    "        <td><center>15</center></td>\n",
    "        <td><center>EXT_SOURCE_2</center></td>\n",
    "        <td><center>660</center></td>\n",
    "        <td><center>0.21</center></td>\n",
    "      </tr>\n",
    "        <tr>\n",
    "        <td><center>16</center></td>\n",
    "        <td><center>AMT_GOODS_PRICE</center></td>\n",
    "        <td><center>278</center></td>\n",
    "        <td><center>0.09</center></td>\n",
    "      </tr>\n",
    "        <tr>\n",
    "        <td><center>17</center></td>\n",
    "        <td><center>AMT_ANNUITY</center></td>\n",
    "        <td><center>12</center></td>\n",
    "        <td><center>0</center></td>\n",
    "      </tr>\n",
    "     <tr>\n",
    "        <td><center>18</center></td>\n",
    "        <td><center>CNT_FAM_MEMBERS</center></td>\n",
    "        <td><center>2</center></td>\n",
    "        <td><center>0</center></td>\n",
    "      </tr>\n",
    "</table><br>"
   ]
  },
  {
   "cell_type": "markdown",
   "id": "70b2ac93-a263-4aa3-99e5-e5dbb1a99eb1",
   "metadata": {
    "tags": []
   },
   "source": [
    "#### <a href=\"projet4.ipynb#C3321\">3.3.2.1 OWN_CAR_AGE<a>"
   ]
  },
  {
   "cell_type": "markdown",
   "id": "b297e947-cf73-4455-ac07-e414aa827102",
   "metadata": {
    "extensions": {
     "jupyter_dashboards": {
      "activeView": "grid_default",
      "views": {
       "grid_default": {
        "col": null,
        "height": 2,
        "hidden": true,
        "locked": true,
        "row": null,
        "width": 2
       }
      }
     }
    }
   },
   "source": [
    "Remplacement des valeurs par la valeur moyenne = 12.06. Cette valeur ne parait ni aberrante ni atypique au regard de la réalité. De plus cette valeur est proche de la valeur médiane (11.94)."
   ]
  },
  {
   "cell_type": "markdown",
   "id": "39ec42bb-e72a-4eaa-a19a-e10882c2b8ac",
   "metadata": {},
   "source": [
    "#### <a href=\"projet4.ipynb#C3322\">3.3.2.2 EXT_SOURCE_1<a>"
   ]
  },
  {
   "cell_type": "markdown",
   "id": "6d204db7-c9c2-439f-8cf3-d4bf2aca241e",
   "metadata": {},
   "source": [
    "Cette colonne correspond à un score donné par une source extérieure pour lequel un jugement doit se faire client par client. Afin de ne pas juger sans fondement ni preuve, je vais placer cette à valeur à 50% (jugement neutre). De plus cette valeur est très proche de la valeur moyenne (0.502)."
   ]
  },
  {
   "cell_type": "markdown",
   "id": "9924b1a0-5480-4526-9e8b-04d77b3afc27",
   "metadata": {
    "tags": []
   },
   "source": [
    "#### <a href=\"projet4.ipynb#C3323\">3.3.2.3 OCCUPATION_TYPE<a>"
   ]
  },
  {
   "cell_type": "markdown",
   "id": "e3107bd8-8e78-48c9-a2ee-ac8ca044ace4",
   "metadata": {},
   "source": [
    "Voici la liste des métiers et leur représentation dans le dataset"
   ]
  },
  {
   "cell_type": "markdown",
   "id": "9d6ad02f-7799-4585-9bf3-42879ccda0be",
   "metadata": {},
   "source": [
    "<table>\n",
    "      <tr>\n",
    "        <th><center>N°</center></th>\n",
    "        <th><center>Nom</center></th>\n",
    "        <th><center>Pourcentage</center></th>\n",
    "      </tr>\n",
    "      <tr>\n",
    "        <td><center>1</center></td>\n",
    "        <td><center>Laborers</center></td>\n",
    "        <td><center> 0.26</center></td>\n",
    "      </tr>\n",
    "       <tr>\n",
    "          <td><center>2</center></td>\n",
    "        <td><center>Sales staff</center></td>\n",
    "        <td><center>0.15</center></td>\n",
    "      </tr>\n",
    "       <tr>\n",
    "        <td><center>3</center></td>\n",
    "        <td><center>Core staff</center></td>\n",
    "        <td><center>0.13</center></td>\n",
    "      </tr>\n",
    "      <tr>\n",
    "         <td><center>4</center></td>\n",
    "        <td><center>Managers</center></td>\n",
    "        <td><center>0.1</center></td>\n",
    "      </tr>\n",
    "         <tr>\n",
    "        <td><center>5</center></td>\n",
    "        <td><center>Drivers</center></td>\n",
    "        <td><center>0.088</center></td>\n",
    "      </tr>\n",
    "      <tr>\n",
    "        <td><center>6</center></td>\n",
    "        <td><center>High skill tech staff</center></td>\n",
    "        <td><center>0.054</center></td>\n",
    "      </tr>\n",
    "      <tr>\n",
    "         <td><center>7</center></td>\n",
    "        <td><center>Accountants</center></td>\n",
    "        <td><center>0.046</center></td>\n",
    "      </tr>\n",
    "     <tr>\n",
    "        <td><center>8</center></td>\n",
    "        <td><center>Medicine staff</center></td>\n",
    "        <td><center>0.04</center></td>\n",
    "      </tr>\n",
    "      <tr>\n",
    "        <td><center>9</center></td>\n",
    "        <td><center>Security staff</center></td>\n",
    "        <td><center>0.032</center></td>\n",
    "      </tr>\n",
    "    <tr>\n",
    "        <td><center>10</center></td>\n",
    "        <td><center>Cooking staff</center></td>\n",
    "        <td><center>0.028</center></td>\n",
    "      </tr>\n",
    "        <tr>\n",
    "        <td><center>11</center></td>\n",
    "        <td><center>Cleaning staff</center></td>\n",
    "        <td><center>0.022</center></td>\n",
    "      </tr>\n",
    "        <tr>\n",
    "        <td><center>12</center></td>\n",
    "        <td><center>Private service staff</center></td>\n",
    "        <td><center>0.013</center></td>\n",
    "      </tr>\n",
    "        <tr>\n",
    "        <td><center>13</center></td>\n",
    "        <td><center>Low-skill Laborers</center></td>\n",
    "        <td><center> 0.01</center></td>\n",
    "      </tr>\n",
    "    <tr>\n",
    "        <td><center>14</center></td>\n",
    "        <td><center>Waiters/barmen staff</center></td>\n",
    "        <td><center>0.0064</center></td>\n",
    "      </tr>\n",
    "        <tr>\n",
    "        <td><center>15</center></td>\n",
    "        <td><center>Secretaries</center></td>\n",
    "        <td><center>0.0062</center></td>\n",
    "      </tr>\n",
    "        <tr>\n",
    "        <td><center>16</center></td>\n",
    "        <td><center>Realty agents</center></td>\n",
    "        <td><center>0.0036</center></td>\n",
    "      </tr>\n",
    "        <tr>\n",
    "        <td><center>17</center></td>\n",
    "        <td><center>HR staff</center></td>\n",
    "        <td><center> 0.0027</center></td>\n",
    "      </tr>\n",
    "     <tr>\n",
    "        <td><center>18</center></td>\n",
    "        <td><center>IT staff</center></td>\n",
    "        <td><center>0.0025</center></td>\n",
    "      </tr>\n",
    "</table><br>"
   ]
  },
  {
   "cell_type": "markdown",
   "id": "5d340382-2859-423d-b747-a55e4116cbe0",
   "metadata": {},
   "source": [
    "Comme on peut le constater, la majorité est représenté par 26% de \"laborers\" ce qui n'est pas une majorité absolue. Je vais donc remplacer les \"vides\" par \"not defined\" afin de ne pas biaiser cette colonne."
   ]
  },
  {
   "cell_type": "markdown",
   "id": "d1a2649c-6dcc-4050-ba49-c08fe26c245e",
   "metadata": {},
   "source": [
    "#### <a href=\"projet4.ipynb#C3324\">3.3.2.4 EXT_SOURCE_3<a>"
   ]
  },
  {
   "cell_type": "markdown",
   "id": "91bcfcda-96a9-4e40-8a9c-e97832e67e20",
   "metadata": {},
   "source": [
    "Cette colonne correspond à un score donné par une source extérieure pour lequel un jugement doit se faire client par client. Afin de ne pas juger sans fondement ni preuve, je vais placer cette à valeur à 50% (jugement neutre). De plus cette valeur est très proche de la valeur moyenne (0.51)."
   ]
  },
  {
   "cell_type": "markdown",
   "id": "5ccb2cb6-2d69-4340-8096-84d728a3c447",
   "metadata": {},
   "source": [
    "#### <a href=\"projet4.ipynb#C3325\">3.3.2.5 AMT_REQ_CREDIT_BUREAU_HOUR<a> "
   ]
  },
  {
   "cell_type": "markdown",
   "id": "0ef31dad-d9f4-49f5-b8e5-a9056c129918",
   "metadata": {},
   "source": [
    "Remarque : Les 6 colonnes AMT_REQ_CREDIT_BUREAU_XXX sont vides sur les mêmes lignes (41519)"
   ]
  },
  {
   "cell_type": "markdown",
   "id": "933a2662-0644-4581-ad1b-40e931c8176f",
   "metadata": {},
   "source": [
    "99% des valeurs sont à 0. Je remplis donc les manquants par cette valeur."
   ]
  },
  {
   "cell_type": "markdown",
   "id": "ee2d5bae-6b02-41f3-9da2-e7ec195b1ba4",
   "metadata": {},
   "source": [
    "#### <a href=\"projet4.ipynb#C3326\">3.3.2.6 AMT_REQ_CREDIT_BUREAU_DAY<a> "
   ]
  },
  {
   "cell_type": "markdown",
   "id": "718650dd-4e48-4a2e-a69e-a1ac966caa3a",
   "metadata": {},
   "source": [
    "99% des valeurs sont à 0. Je remplis donc les manquants par cette valeur."
   ]
  },
  {
   "cell_type": "markdown",
   "id": "41e0e9bb-e022-48f8-b1d2-6cbc81055c37",
   "metadata": {},
   "source": [
    "#### <a href=\"projet4.ipynb#C3327\">3.3.2.7 AMT_REQ_CREDIT_BUREAU_WEEK<a> "
   ]
  },
  {
   "cell_type": "markdown",
   "id": "6143fcda-2291-4fb4-8e0f-ebcb248db5fa",
   "metadata": {},
   "source": [
    "97% des valeurs sont à 0. Je remplis donc les manquants par cette valeur."
   ]
  },
  {
   "cell_type": "markdown",
   "id": "7561dde1-2613-4e2c-b3f5-e48d232b8284",
   "metadata": {},
   "source": [
    "#### <a href=\"projet4.ipynb#C3328\">3.3.2.8 AMT_REQ_CREDIT_BUREAU_MON<a> "
   ]
  },
  {
   "cell_type": "markdown",
   "id": "091ecaf5-7717-4a72-b6fe-c86f436b1fa3",
   "metadata": {},
   "source": [
    "84% des valeurs sont à 0. Je remplis donc les manquants par cette valeur."
   ]
  },
  {
   "cell_type": "markdown",
   "id": "58368d7e-951a-4024-82de-10a5c97ac1b0",
   "metadata": {},
   "source": [
    "#### <a href=\"projet4.ipynb#C3329\">3.3.2.9 AMT_REQ_CREDIT_BUREAU_MON<a> "
   ]
  },
  {
   "cell_type": "markdown",
   "id": "bc971835-e2f7-4d40-9652-6f93fe072d28",
   "metadata": {},
   "source": [
    "81% des valeurs sont à 0. Je remplis donc les manquants par cette valeur."
   ]
  },
  {
   "cell_type": "markdown",
   "id": "aa102fbc-9825-4f36-8de0-4f78da3b1715",
   "metadata": {},
   "source": [
    "#### <a href=\"projet4.ipynb#C33210\">3.3.2.10 AMT_REQ_CREDIT_BUREAU_YEAR<a> "
   ]
  },
  {
   "cell_type": "markdown",
   "id": "bd43e6d6-42c4-4cfc-ab58-a7cd31b9f7f9",
   "metadata": {},
   "source": [
    "Remplacement des valeurs par la valeur moyenne = 1.90 (≃2). Cette valeur ne parait ni aberrante ni atypique au regard de la réalité. De plus cette valeur est proche de la valeur médiane =1.87 (≃2)."
   ]
  },
  {
   "cell_type": "markdown",
   "id": "fd0ec799-5da5-4ffc-8be8-71cc09b1b16e",
   "metadata": {},
   "source": [
    "#### <a href=\"projet4.ipynb#C33211\">3.3.2.11 Bilan manquant<a> "
   ]
  },
  {
   "cell_type": "markdown",
   "id": "53b09dcf-8fab-476d-ad80-759b68044a8e",
   "metadata": {},
   "source": [
    "Pour les manquants restants, au vu de leur faible quantité (max 0.33% du dataset), on supprime les lignes concernées. Il n'y a maintenant plus de manquant."
   ]
  },
  {
   "cell_type": "markdown",
   "id": "388291c7-37d0-406f-b5d9-a0435fb95694",
   "metadata": {
    "extensions": {
     "jupyter_dashboards": {
      "activeView": "grid_default",
      "views": {
       "grid_default": {
        "col": null,
        "height": 2,
        "hidden": true,
        "locked": true,
        "row": null,
        "width": 2
       }
      }
     }
    },
    "tags": []
   },
   "source": [
    "### <a href=\"projet4.ipynb#C333\">3.3.3 Nombre de classe unique dans chaque colonne \"object\"<a>"
   ]
  },
  {
   "cell_type": "markdown",
   "id": "bd7c712d-fdf5-434b-b975-282b3b6bada3",
   "metadata": {},
   "source": [
    "Les valeurs de \"REGION_RATING_CLIENT\" et \"REGION_RATING_CLIENT_W_CITY\" sont 1,2 ou 3. On a donc plutôt affaire à une classification. On va donc les passer en \"objet\" au lieu de \"int\""
   ]
  },
  {
   "cell_type": "markdown",
   "id": "59f838fe-fa5b-4af4-910d-930d689aef96",
   "metadata": {
    "extensions": {
     "jupyter_dashboards": {
      "activeView": "grid_default",
      "views": {
       "grid_default": {
        "col": null,
        "height": 2,
        "hidden": true,
        "locked": true,
        "row": null,
        "width": 2
       }
      }
     }
    },
    "tags": []
   },
   "source": [
    "Pour les autres colonnes, rien d’anormal sur les valeurs uniques par colonne"
   ]
  },
  {
   "cell_type": "markdown",
   "id": "94c25c4c-6d65-4318-b698-bcbdbfde39a2",
   "metadata": {},
   "source": [
    "### <a href=\"projet4.ipynb#C334\"> 3.3.4  Détection des doublons</a>"
   ]
  },
  {
   "cell_type": "markdown",
   "id": "c52b62b1-166f-4a3e-a0ae-228143f5d084",
   "metadata": {},
   "source": [
    "Pas de doublons détectés sur les lignes."
   ]
  },
  {
   "cell_type": "markdown",
   "id": "130e6ca8-5eb9-417f-989e-ebe8078f907e",
   "metadata": {
    "extensions": {
     "jupyter_dashboards": {
      "activeView": "grid_default",
      "views": {
       "grid_default": {
        "col": null,
        "height": 2,
        "hidden": true,
        "locked": true,
        "row": null,
        "width": 2
       }
      }
     }
    },
    "tags": []
   },
   "source": [
    "### <a href=\"projet4.ipynb#C315\">3.3.5 Outliers<a>   "
   ]
  },
  {
   "cell_type": "markdown",
   "id": "b7b1495b-193f-4103-9bd3-7b95533db603",
   "metadata": {
    "tags": []
   },
   "source": [
    "#### <a href=\"projet4.ipynb#C3151\">3.3.5.1 CNT_CHILDREN<a>   "
   ]
  },
  {
   "cell_type": "markdown",
   "id": "e8b4ae6b-2c47-4332-a99c-ad2211de3bb1",
   "metadata": {},
   "source": [
    "<center><img alt=\"cnt_children_before\" src=\"images/nettoyage/outliers/cnt_children_before.png\"/></center>"
   ]
  },
  {
   "cell_type": "markdown",
   "id": "5af8e790-37fe-4047-89bf-6c7f4f7be48f",
   "metadata": {},
   "source": [
    "Au-dessus de 3 enfants, nous observons des valeurs (552) atypiques mais pas aberrantes. J'aurai pu remplacer ces 552 valeurs par la valeur moyenne (0.4) ou la valeur médiane (0.7) mais vu que ces chiffres ne sont pas \"ronds\", au vu du faible nombre de valeur concernés (0.18% du dataset), je vais passer ces valeurs à \"NaN\"."
   ]
  },
  {
   "cell_type": "markdown",
   "id": "402a46e0-5914-4cde-abf4-483c49a6d6ac",
   "metadata": {},
   "source": [
    "<center><img alt=\"cnt_children_after\" src=\"images/nettoyage/outliers/cnt_children_after.png\"></center>"
   ]
  },
  {
   "cell_type": "markdown",
   "id": "c1b1c8d2-493a-44e1-8f54-3eb73c992707",
   "metadata": {
    "tags": []
   },
   "source": [
    "#### <a href=\"projet4.ipynb#C3152\">3.3.5.2 AMT_INCOME_TOTAL<a>   "
   ]
  },
  {
   "cell_type": "markdown",
   "id": "dc4fc33b-9c09-442a-a326-b343b2cf86c8",
   "metadata": {},
   "source": [
    "<center><img alt=\"income\" src=\"images/nettoyage/outliers/amt_income_total_before.png\"></center>"
   ]
  },
  {
   "cell_type": "markdown",
   "id": "fea1a9a1-8e7a-48a9-83af-7348ad08454c",
   "metadata": {},
   "source": [
    "On observe 1 valeur au-dessus de 1e+8. C'est une valeur atypique vis à vis des autres. Je décide de passer cette valeur à \"NaN\". "
   ]
  },
  {
   "cell_type": "markdown",
   "id": "12f261fe-4a7b-4906-b2f9-7d4b8ff4511f",
   "metadata": {},
   "source": [
    "<center><img alt=\"income\" src=\"images/nettoyage/outliers/amt_income_total_after.png\"></center>"
   ]
  },
  {
   "cell_type": "markdown",
   "id": "eb381d79-4573-49df-b02c-0f11b92829e4",
   "metadata": {
    "tags": []
   },
   "source": [
    "#### <a href=\"projet4.ipynb#C3153\">3.3.5.3 DAY_BIRTH<a>   "
   ]
  },
  {
   "cell_type": "markdown",
   "id": "31da3b08-f706-44f0-bf08-75aecfe9b988",
   "metadata": {},
   "source": [
    "L’âge minimum du client est 20 ans. L’âge max est 69 ans donc rien d'aberrent ni d'atypique."
   ]
  },
  {
   "cell_type": "markdown",
   "id": "c44901ce-f34d-4fcf-bf9b-6d2ef14bad23",
   "metadata": {
    "tags": []
   },
   "source": [
    "#### <a href=\"projet4.ipynb#C3154\">3.3.5.4 DAYS_EMPLOYED<a>   "
   ]
  },
  {
   "cell_type": "markdown",
   "id": "9ce6ea1b-f887-47dd-833c-13f90395f2c6",
   "metadata": {},
   "source": [
    "<center><img alt=\"cnt_children_before\" src=\"images/nettoyage/outliers/days_employed_before.png\"></center>"
   ]
  },
  {
   "cell_type": "markdown",
   "id": "148fb6af-c041-4459-b9da-b720cb9b2e42",
   "metadata": {},
   "source": [
    "Il y a 55026 valeurs =365243. Ce qui équivaut à 1000 ans. Ce sont des valeurs aberrantes que je vais corriger par la valeur moyenne (ôtée de ces 55026 valeurs aberrantes)"
   ]
  },
  {
   "cell_type": "markdown",
   "id": "26185aad-3e69-4ac4-bb1c-fc31c6707fa9",
   "metadata": {},
   "source": [
    "<center><img alt=\"cnt_children_before\" src=\"images/nettoyage/outliers/days_employed_after.png\"></center>"
   ]
  },
  {
   "cell_type": "markdown",
   "id": "63e3d3e1-8746-4f4d-a87d-63d92117dc73",
   "metadata": {},
   "source": [
    "Ce sont des valeurs négatives dont le min correspond à 48 ans et le max à 0. "
   ]
  },
  {
   "cell_type": "markdown",
   "id": "06ddc2b5-e161-4137-9f4f-440e295a8c87",
   "metadata": {
    "tags": []
   },
   "source": [
    "#### <a href=\"projet4.ipynb#C3155\">3.3.5.5 OWN_CAR_AGE<a>   "
   ]
  },
  {
   "cell_type": "markdown",
   "id": "16b4b5bd-1f6f-4113-9346-1f35fa49f7a6",
   "metadata": {},
   "source": [
    "<center><img alt=\"own_car\" src=\"images/nettoyage/outliers/own_car.png\"/></center>"
   ]
  },
  {
   "cell_type": "markdown",
   "id": "deadc5c5-2e0c-41bd-a82d-a944c0325eff",
   "metadata": {},
   "source": [
    "Rien de surprenant. Min = 0 : voiture neuve et max = 91 : possible voiture de collection."
   ]
  },
  {
   "cell_type": "markdown",
   "id": "9735763b-7df3-4dac-b9d2-c9b0b451eb18",
   "metadata": {
    "tags": []
   },
   "source": [
    "#### <a href=\"projet4.ipynb#C3156\">3.3.5.6 CNT_FAM_MEMBERS<a>   "
   ]
  },
  {
   "cell_type": "markdown",
   "id": "012efd6f-84b0-46a2-87ac-bbc35f3dcf14",
   "metadata": {},
   "source": [
    "<center><img alt=\"fam\" src=\"images/nettoyage/outliers/cnt_fam_members_before.png\"></center>"
   ]
  },
  {
   "cell_type": "markdown",
   "id": "19f095d2-8597-4f96-b15c-c59efdfae808",
   "metadata": {},
   "source": [
    "Si on part sur un nombre d'enfant max à 3 (soit une famille de 5), on détecte 527 lignes > 5. Je remplace les valeurs concernées par \"NaN\" (même principe que \"CNT_CHILDREN)"
   ]
  },
  {
   "cell_type": "markdown",
   "id": "dd6903ec-b15c-411c-8e1e-2e6568248afd",
   "metadata": {},
   "source": [
    "<center><img alt=\"fam\" src=\"images/nettoyage/outliers/cnt_fam_members_after.png\"></center>"
   ]
  },
  {
   "cell_type": "markdown",
   "id": "4c249284-1203-4fdf-bd0d-8085392aec03",
   "metadata": {
    "tags": []
   },
   "source": [
    "#### <a href=\"projet4.ipynb#C3157\">3.3.5.7 OBS_60_CNT_SOCIAL_CIRCLE<a> "
   ]
  },
  {
   "cell_type": "markdown",
   "id": "50e3b993-efc6-4d73-b2c4-f978758d59aa",
   "metadata": {},
   "source": [
    "<center><img alt=\"obs60\" src=\"images/nettoyage/outliers/obs_60_before.png\"></center>"
   ]
  },
  {
   "cell_type": "markdown",
   "id": "c2a77f48-3abd-4c5a-bc98-a30019cbcfaf",
   "metadata": {},
   "source": [
    "2 valeurs sortent du lot, je les remplace par \"NaN\"."
   ]
  },
  {
   "cell_type": "markdown",
   "id": "62c50aae-eda7-40c8-bac1-9602e28fe075",
   "metadata": {},
   "source": [
    "<center><img alt=\"obs60\" src=\"images/nettoyage/outliers/obs_60_after.png\"></center>"
   ]
  },
  {
   "cell_type": "markdown",
   "id": "2273cac2-d137-473e-8a20-67c0e3e1bf00",
   "metadata": {
    "tags": []
   },
   "source": [
    "#### <a href=\"projet4.ipynb#C3158\">3.3.5.8 DEF_60_CNT_SOCIAL_CIRCLE<a> "
   ]
  },
  {
   "cell_type": "markdown",
   "id": "1d5b187e-642b-46d4-8339-115a94a20880",
   "metadata": {},
   "source": [
    "<center><img alt=\"def60\" src=\"images/nettoyage/outliers/def_60_before.png\"></center>"
   ]
  },
  {
   "cell_type": "markdown",
   "id": "e686d0d5-ae1e-4f00-afd3-64a9b12284d7",
   "metadata": {},
   "source": [
    "1 valeur sort du lot, je les remplace par \"NaN\"."
   ]
  },
  {
   "cell_type": "markdown",
   "id": "a87004f7-942c-4385-90f8-b785a647d003",
   "metadata": {},
   "source": [
    "<center><img alt=\"def60\" src=\"images/nettoyage/outliers/def_60_after.png\"></center>"
   ]
  },
  {
   "cell_type": "markdown",
   "id": "708883da-1be8-49fd-920a-cb0d5ae00d19",
   "metadata": {
    "tags": []
   },
   "source": [
    "#### <a href=\"projet4.ipynb#C3159\">3.3.5.9 OBS_30_CNT_SOCIAL_CIRCLE<a> "
   ]
  },
  {
   "cell_type": "markdown",
   "id": "c4f2d404-23f6-4bd5-bfc4-f2ff907e4b26",
   "metadata": {},
   "source": [
    "<center><img alt=\"obs30\" src=\"images/nettoyage/outliers/obs_30_before.png\"></center>"
   ]
  },
  {
   "cell_type": "markdown",
   "id": "d112ad7c-7ead-42cb-bb15-58c7fea4d6a5",
   "metadata": {},
   "source": [
    "2 valeurs sortent du lot, je la remplace par \"NaN\"."
   ]
  },
  {
   "cell_type": "markdown",
   "id": "c4d1882a-97df-4f6d-bb1e-a2614a685f2c",
   "metadata": {},
   "source": [
    "<center><img alt=\"obs30\" src=\"images/nettoyage/outliers/obs_30_after.png\"></center>"
   ]
  },
  {
   "cell_type": "markdown",
   "id": "cf6d6e22-4238-4708-8528-dc6bea9afb8d",
   "metadata": {
    "tags": []
   },
   "source": [
    "#### <a href=\"projet4.ipynb#C31510\">3.3.5.10 DEF_30_CNT_SOCIAL_CIRCLE<a> "
   ]
  },
  {
   "cell_type": "markdown",
   "id": "66db4184-973e-445d-bfd4-1b9f186fc12c",
   "metadata": {},
   "source": [
    "<center><img alt=\"def30\" src=\"images/nettoyage/outliers/def_30_before.png\"></center>"
   ]
  },
  {
   "cell_type": "markdown",
   "id": "7586c0ed-b2dc-43cd-8430-bb0c48c240af",
   "metadata": {},
   "source": [
    "1 valeur sort du lot, je la remplace par \"NaN\"."
   ]
  },
  {
   "cell_type": "markdown",
   "id": "5e38c8ee-5e4f-4101-80b6-18078e44d337",
   "metadata": {},
   "source": [
    "<center><img alt=\"def30\" src=\"images/nettoyage/outliers/def_30_after.png\"></center>"
   ]
  },
  {
   "cell_type": "markdown",
   "id": "b17e144d-b04a-406d-a25c-383bd512990c",
   "metadata": {
    "tags": []
   },
   "source": [
    "### <a href=\"projet4.ipynb#C316\">3.3.6 \"NaN\" générés par le traitement des Outliers<a> "
   ]
  },
  {
   "cell_type": "markdown",
   "id": "d3a75d04-9424-4169-a81c-e69fe2b8cc61",
   "metadata": {},
   "source": [
    "<table>\n",
    "      <tr>\n",
    "        <th><center>N°</center></th>\n",
    "        <th><center>Nom</center></th>\n",
    "        <th><center>Quantité</center></th>\n",
    "        <th><center>Pourcentage</center></th>\n",
    "      </tr>\n",
    "      <tr>\n",
    "        <td><center>1</center></td>\n",
    "        <td><center>CNT_CHILDREN</center></td>\n",
    "        <td><center>552</center></td>\n",
    "        <td><center>0.18 %</center></td>\n",
    "      </tr>\n",
    "       <tr>\n",
    "        <td><center>2</center></td>\n",
    "        <td><center>CNT_FAM_MEMBERS</center></td>\n",
    "        <td><center>527</center></td>\n",
    "        <td><center>0.17 %</center></td>\n",
    "      </tr>\n",
    "       <tr>\n",
    "        <td><center>3</center></td>\n",
    "        <td><center>AMT_INCOME_TOTAL</center></td>\n",
    "        <td><center>1</center></td>\n",
    "        <td><center>0 %</center></td>\n",
    "      </tr>\n",
    "           <tr>\n",
    "        <td><center>4</center></td>\n",
    "        <td><center>OBS_60_CNT_SOCIAL_CIRCLE</center></td>\n",
    "        <td><center>2</center></td>\n",
    "        <td><center>0 %</center></td>\n",
    "      </tr>\n",
    "           <tr>\n",
    "        <td><center>5</center></td>\n",
    "        <td><center>DEF_60_CNT_SOCIAL_CIRCLE</center></td>\n",
    "        <td><center>1</center></td>\n",
    "        <td><center>0 %</center></td>\n",
    "      </tr>\n",
    "    <tr>\n",
    "        <td><center>6</center></td>\n",
    "        <td><center>OBS_30_CNT_SOCIAL_CIRCLE</center></td>\n",
    "        <td><center>2</center></td>\n",
    "        <td><center>0 %</center></td>\n",
    "      </tr>\n",
    "    <tr>\n",
    "        <td><center>7</center></td>\n",
    "        <td><center>DEF_30_CNT_SOCIAL_CIRCLE</center></td>\n",
    "        <td><center>1</center></td>\n",
    "        <td><center>0 %</center></td>\n",
    "      </tr>\n",
    "</table>"
   ]
  },
  {
   "cell_type": "markdown",
   "id": "36fa1913-2858-4011-8a4b-31e364d23b4f",
   "metadata": {},
   "source": [
    "Au vu des faibles quantité de valeurs vides restantes, on peut supprimer les lignes concernées."
   ]
  },
  {
   "cell_type": "markdown",
   "id": "18906c5f-0ea9-4051-8004-5b311fa8b9d5",
   "metadata": {},
   "source": [
    "### <a href=\"projet4.ipynb#C317\">3.3.7 Bilan du nettoyage<a> "
   ]
  },
  {
   "cell_type": "markdown",
   "id": "28a00339-717e-4356-9a9a-5ded26b6a4ec",
   "metadata": {},
   "source": [
    "Nous avons maintenant un dataframe complet (ne comportant pas de vide) composé de 304990 lignes et 37 colonnes (Float64 : 21; Int64 :4; Object :12). \n",
    "Les vérifications suivantes ont été réalisées :<br>\n",
    "-Manquants<br>\n",
    "-Types<br>\n",
    "-Outliers sur tous les types<br>\n",
    "-Doublons<br>\n",
    "-Vides<br>\n",
    "\n",
    "Le DataFrame est prêt à être exploité pour de la modélisation. \n",
    "\n",
    "Afin de ne pas influencer le résultat du modèle et garder l'information pour la liaison avec les autres dataframes, je passe \"SK_ID_CURRENT\" (ID du prêt) en index\n",
    "Nous avons maintenant un dataframe complet (ne comportant pas de vide) composé de 304990 lignes et 36 colonnes (Float64 : 21; Int64 :3; Object :12). "
   ]
  },
  {
   "cell_type": "markdown",
   "id": "657f6c77-2f70-494c-a5cb-108928cb4a86",
   "metadata": {
    "tags": []
   },
   "source": [
    "# <a href=\"projet4.ipynb#C4\"> 4 Analyses <a>"
   ]
  },
  {
   "cell_type": "markdown",
   "id": "0d13acde-bd70-47fc-a0d9-dd0681bb6b68",
   "metadata": {
    "tags": []
   },
   "source": [
    "## <a href=\"projet4.ipynb#C41\"> 4.1 Analyses multivariées <a>"
   ]
  },
  {
   "cell_type": "markdown",
   "id": "0b718cc9-2377-46a4-88a5-23f6cc9a4c14",
   "metadata": {
    "tags": []
   },
   "source": [
    "### <a href=\"projet4.ipynb#C411\"> 4.1.1 Variables numériques <a>"
   ]
  },
  {
   "cell_type": "markdown",
   "id": "e2dc2d8a-e1aa-42ca-8bd2-62e6c0818a2f",
   "metadata": {
    "tags": []
   },
   "source": [
    "#### <a href=\"projet4.ipynb#C4111\"> 4.1.1.1 Corrélation<a>"
   ]
  },
  {
   "cell_type": "markdown",
   "id": "e9bb394c-c029-48a1-a599-43807f131e88",
   "metadata": {},
   "source": [
    "<center><img alt=\"correlation\" src=\"images/correlation/df_app_train.png\"></center>"
   ]
  },
  {
   "cell_type": "markdown",
   "id": "a8ef5193-9f7e-443e-b4a9-a543ef356f9c",
   "metadata": {},
   "source": [
    "##### <a href=\"projet4.ipynb#C41111\"> 4.1.1.1.1 DAYS_BIRTH vs TARGET<a>"
   ]
  },
  {
   "cell_type": "markdown",
   "id": "257a5380-31eb-48e9-ada1-c67b49dfa5f7",
   "metadata": {},
   "source": [
    "<center><img alt=\"correlation\" src=\"images/correlation/days_birth_vs_target.png\"></center>"
   ]
  },
  {
   "cell_type": "markdown",
   "id": "3099af88-502d-49c0-9615-d90972251453",
   "metadata": {},
   "source": [
    "On remarque que les défauts de paiements présentes un pic sur l'âge 25/35 ans. Ensuite, plus l'âge augmente et plus les défauts de paiement disparaissent. Cette tendance est confirmée avec l'histogramme ci-dessous : "
   ]
  },
  {
   "cell_type": "markdown",
   "id": "8392522c-7305-4092-bd66-607ede65fa8f",
   "metadata": {},
   "source": [
    "<center><img alt=\"correlation\" src=\"images/correlation/days_birth_vs_target_hist.png\"></center>"
   ]
  },
  {
   "cell_type": "markdown",
   "id": "99c3dffa-b3ab-4cd2-a7f2-5aa80997aaf3",
   "metadata": {},
   "source": [
    "##### <a href=\"projet4.ipynb#C41112\"> 4.1.1.1.2 DAYS_EMPLOYED vs TARGET<a>"
   ]
  },
  {
   "cell_type": "markdown",
   "id": "41f4e74e-2e33-4c19-8605-277d7f6037e2",
   "metadata": {},
   "source": [
    "<center><img alt=\"correlation\" src=\"images/correlation/days_employed_vs_target.png\"></center>"
   ]
  },
  {
   "cell_type": "markdown",
   "id": "5a7c53fc-aa65-432b-af3c-977955821ed5",
   "metadata": {},
   "source": [
    "La majorité des défauts de paiement sont détectés sur des personnes ayant entre 3 et 9 ans de carrière chez l'employeur actuel."
   ]
  },
  {
   "cell_type": "markdown",
   "id": "96c8787d-9593-4879-8b74-90316368dc8f",
   "metadata": {},
   "source": [
    "##### <a href=\"projet4.ipynb#C41113\"> 4.1.1.1.3 SOURCE_EXT vs TARGET<a>"
   ]
  },
  {
   "cell_type": "markdown",
   "id": "e8355318-c803-42ab-b84f-3a82f211b2d2",
   "metadata": {},
   "source": [
    "<center><img alt=\"correlation\" src=\"images/correlation/source_ext_vs_target.png\"></center>"
   ]
  },
  {
   "cell_type": "markdown",
   "id": "943b0d4c-e608-43d2-bce9-b3e35b6b947b",
   "metadata": {},
   "source": [
    "La majorité des défauts de paiement est illutrée par EXT_SOURCE = [0 – 0,5]. Cette remarque est d'autant plus visible sur EXT_SOURCE_2\n"
   ]
  },
  {
   "cell_type": "markdown",
   "id": "f01d27ba-10a1-448b-afea-03a1afdffe16",
   "metadata": {},
   "source": [
    "##### <a href=\"projet4.ipynb#C41114\"> 4.1.1.1.4 AMT_X vs AMT_X<a>"
   ]
  },
  {
   "cell_type": "markdown",
   "id": "c2e6e033-c06b-4f85-a414-404eae39eca6",
   "metadata": {},
   "source": [
    "<center><img alt=\"correlation\" src=\"images/correlation/amt_x_vs_amt_x.png\"></center>"
   ]
  },
  {
   "cell_type": "markdown",
   "id": "ea481163-f115-4223-b83f-ee8d90c7927f",
   "metadata": {},
   "source": [
    "<center><img alt=\"correlation\" src=\"images/correlation/amt_goods_price_vs_amt_credit.png\"></center>"
   ]
  },
  {
   "cell_type": "markdown",
   "id": "cc4c13f4-b94d-49ff-955e-8c64f7350679",
   "metadata": {},
   "source": [
    "Le montant du crédit est effectué pour acheter un ou des biens précis. Le montant du prêt doit donc être égal ou proche des montants des biens achetés d'où la corrélation à 99% et cette tendance linéaire. "
   ]
  },
  {
   "cell_type": "markdown",
   "id": "33f539fb-6868-4413-b29b-efa3c5d1d4cf",
   "metadata": {},
   "source": [
    "<center><img alt=\"correlation\" src=\"images/correlation/amt_annuity_vs_amt_credit.png\"></center>"
   ]
  },
  {
   "cell_type": "markdown",
   "id": "ed1dc108-3c5c-4295-89c1-b1fda6328826",
   "metadata": {},
   "source": [
    "Le montant du crédit est fortement corrélé au montant annuel remboursé. La tendance en éventail est dû à la durée de remboursement du prêt."
   ]
  },
  {
   "cell_type": "markdown",
   "id": "d0791aa3-0f35-4b51-b380-2703724d82c1",
   "metadata": {},
   "source": [
    "##### <a href=\"projet4.ipynb#C41115\"> 4.1.1.1.5 OBS_60/30_CNT_SOCIAL_CIRCLE vs DEF_60/30_CNT_SOCIAL_CIRCLE<a> "
   ]
  },
  {
   "cell_type": "markdown",
   "id": "9604007b-8ffc-42c7-9841-0ecdc0f6a4e7",
   "metadata": {},
   "source": [
    "<center><img alt=\"correlation\" src=\"images/correlation/obs_df.png\"></center>"
   ]
  },
  {
   "cell_type": "markdown",
   "id": "6d3389aa-eca7-4e4b-ae4d-d732808790dc",
   "metadata": {},
   "source": [
    "<center><img alt=\"correlation\" src=\"images/correlation/pairplot_obs_df_vs_target.png\"></center>"
   ]
  },
  {
   "cell_type": "markdown",
   "id": "ee89ce14-5df8-4ed8-82b5-cf89ea4e9d69",
   "metadata": {},
   "source": [
    "La target nous apporte peu d'information car elle est déséquilibrée en termes de quantité.<br>\n",
    "La corrélation de 100% entre OBS60 et OBS 30 nous montre que les données sont identiques entre les colonnes. On pourra donc juste utiliser l'une des 2 pour nos analyses. Cette corrélation illustre qu'aucun retard n'a dépassé 30 jours.<br>\n",
    "La faible corrélation entre OBS60 et DEF60 est normal car les retards en cours (DEF) ne devraient pas être comptés dans les retards finis (OBS). La corrélation relevée illustre plusieurs lots de retards pour un même crédit."
   ]
  },
  {
   "cell_type": "markdown",
   "id": "7275a5d7-d4be-474f-9b35-1cd0e232c995",
   "metadata": {
    "tags": []
   },
   "source": [
    "##### <a href=\"projet4.ipynb#C41116\"> 4.1.1.1.6 DAYS_BIRTH vs CNT_CHILDREN vs DAYS_EMPLOYED vs CNT_FAM_MEMBERS vs EXT_SOURCE_1 vs EXT_SOURCE_3<a> "
   ]
  },
  {
   "cell_type": "markdown",
   "id": "5c1e3303-51e3-4e23-9b85-83c4931898c2",
   "metadata": {},
   "source": [
    "Remarque : DAYS_BIRTH a été ramené en valeur positive pour cette analyse."
   ]
  },
  {
   "cell_type": "markdown",
   "id": "ec066bcb-440e-4d5c-b180-f8a6cdf35d7a",
   "metadata": {},
   "source": [
    "<center><img alt=\"correlation\" src=\"images/correlation/days_birth_vs_others.png\"></center>"
   ]
  },
  {
   "cell_type": "markdown",
   "id": "a7f98440-ad13-442c-b97b-6798d9e25540",
   "metadata": {},
   "source": [
    "On observe une corrélation de 36% entre \"EXT_SOURCE_1\" et \"DAYS_BIRTH\" : ce qui veut dire que le calcul de  \"EXT_SOURCE_1\" prend surement en compte \"DAYS_BIRTH\"."
   ]
  },
  {
   "cell_type": "markdown",
   "id": "a8c67d8f-2032-442e-9bb7-4e6a31687efa",
   "metadata": {},
   "source": [
    "<center><img alt=\"correlation\" src=\"images/correlation/days_birth_vs_cnt_children.png\"></center>"
   ]
  },
  {
   "cell_type": "markdown",
   "id": "fdb478d6-7223-41d2-88a2-f8cc7d22ae33",
   "metadata": {},
   "source": [
    "La plupart des clients n’ont pas d’enfant. Cependant la corrélation entre les 2 variables est négative."
   ]
  },
  {
   "cell_type": "markdown",
   "id": "d3bc6880-e927-429a-98f8-065d4d3f6436",
   "metadata": {},
   "source": [
    "<center><img alt=\"correlation\" src=\"images/correlation/cnt_fam_members_vs_cnt_children.png\"></center>"
   ]
  },
  {
   "cell_type": "markdown",
   "id": "22441dca-0e7f-4f90-a742-3dd4ce83ec22",
   "metadata": {},
   "source": [
    "Il est logique d'avoir une forte corrélation entre ces 2 variables puisque \"CNT_CHILDREN\" est compris dans \"CNT_FAM_MEMBERS\". Quelques cas sont atypiques notamment quand CNT_CHILDREN = CNT_FAM_MEMBERS+1 (1 des 2 membre du couple n'est pas compté ?). Finalement, la majorité des clients n'ont pas d'enfants."
   ]
  },
  {
   "cell_type": "markdown",
   "id": "3f8b6b00-e90f-4217-ac6c-93f1fe1b28ed",
   "metadata": {
    "tags": []
   },
   "source": [
    "### <a href=\"projet4.ipynb#C412\"> 4.1.2 Variables catégorielles (méthode CHI2) <a>"
   ]
  },
  {
   "cell_type": "markdown",
   "id": "80626e81-c0ac-49f2-ac2b-cee4cd370ee5",
   "metadata": {
    "jp-MarkdownHeadingCollapsed": true,
    "tags": []
   },
   "source": [
    "#### <a href=\"projet4.ipynb#C4121\"> 4.1.2.1 TARGET vs CODE_GENDER <a>"
   ]
  },
  {
   "cell_type": "markdown",
   "id": "b7289e75-7d1d-40d7-b58b-60b3dfe4b563",
   "metadata": {},
   "source": [
    "<center><img alt=\"cat\" src=\"images/chi2/target_vs_code_gender.png\"></center>"
   ]
  },
  {
   "cell_type": "markdown",
   "id": "41742a50-d362-42a8-bf04-88009aed2eff",
   "metadata": {},
   "source": [
    "Les hommes ont plus de défauts de paiement que les femmes malgré qu’il y ait 2 fois plus de femme que d’homme dans le dataset (voir analyse univariée)."
   ]
  },
  {
   "cell_type": "markdown",
   "id": "d7b46022-62fe-4394-b66a-9792ce67ef83",
   "metadata": {
    "tags": []
   },
   "source": [
    "#### <a href=\"projet4.ipynb#C4122\"> 4.1.2.2 TARGET vs NAME_INCOME_TYPE <a>"
   ]
  },
  {
   "cell_type": "markdown",
   "id": "c9ffd5c6-8a73-4a39-95f5-9f596ab3cd45",
   "metadata": {},
   "source": [
    "<center><img alt=\"cat\" src=\"images/chi2/target_vs_name_income_type.png\"></center>"
   ]
  },
  {
   "cell_type": "markdown",
   "id": "2be3a777-16cd-4ffb-8a29-3c53df4a9e2c",
   "metadata": {},
   "source": [
    "Les retraités et la catégorie « Working » sont les groupes ayant le plus de difficultés de paiement."
   ]
  },
  {
   "cell_type": "markdown",
   "id": "9bdf8e75-d974-4fd9-a9bf-09fb2c0eb34d",
   "metadata": {
    "tags": []
   },
   "source": [
    "#### <a href=\"projet4.ipynb#C4123\"> 4.1.2.3 TARGET vs NAME_EDUCATION_TYPE  <a>"
   ]
  },
  {
   "cell_type": "markdown",
   "id": "56bca60c-bd98-474f-b376-d2ee27f92a7a",
   "metadata": {},
   "source": [
    "<center><img alt=\"cat\" src=\"images/chi2/target_vs_name_education_type.png\"></center>"
   ]
  },
  {
   "cell_type": "markdown",
   "id": "33576bc1-90a1-4bb0-b193-0920e8bd00f2",
   "metadata": {},
   "source": [
    "Le groupe \"enseignement supérieur\" est le groupe ayant le plus de difficultés de paiement."
   ]
  },
  {
   "cell_type": "markdown",
   "id": "9c348a84-6294-4286-9fc7-9727b45febfe",
   "metadata": {
    "tags": []
   },
   "source": [
    "#### <a href=\"projet4.ipynb#C4124\"> 4.1.2.4 TARGET vs NAME_FAMILY_STATUS  <a>"
   ]
  },
  {
   "cell_type": "markdown",
   "id": "f2114bdf-56d2-41cf-aadb-f44a2f79770b",
   "metadata": {},
   "source": [
    "<center><img alt=\"cat\" src=\"images/chi2/target_vs_name_family_status.png\"></center>"
   ]
  },
  {
   "cell_type": "markdown",
   "id": "eb927f05-97dc-4ea3-a911-e8fe4f5c2f74",
   "metadata": {},
   "source": [
    "Les personnes seules ont le plus de difficultés de paiement."
   ]
  },
  {
   "cell_type": "markdown",
   "id": "f8c2223b-df2b-4667-8405-ea27334c2007",
   "metadata": {
    "tags": []
   },
   "source": [
    "#### <a href=\"projet4.ipynb#C4125\"> 4.1.2.5 TARGET vs OCCUPTION_TYPE  <a>"
   ]
  },
  {
   "cell_type": "markdown",
   "id": "ec4eee14-a93a-4b41-a21b-f7b167e1f9fc",
   "metadata": {},
   "source": [
    "<center><img alt=\"cat\" src=\"images/chi2/target_vs_occupation_type.png\"></center>"
   ]
  },
  {
   "cell_type": "markdown",
   "id": "93a7bed1-c169-415c-a3ba-c310edbacbd3",
   "metadata": {},
   "source": [
    "La classe ouvrière a le plus de difficultés de paiement."
   ]
  },
  {
   "cell_type": "markdown",
   "id": "47e10edc-1d68-47da-8b04-e8c6d07135fb",
   "metadata": {
    "tags": []
   },
   "source": [
    "#### <a href=\"projet4.ipynb#C4126\"> 4.1.2.6 TARGET vs NAME_HOUSING_TYPE <a>"
   ]
  },
  {
   "cell_type": "markdown",
   "id": "56a7caad-7ec2-4f9a-9fa5-1df0ef6f7885",
   "metadata": {},
   "source": [
    "<center><img alt=\"cat\" src=\"images/chi2/target_vs_name_housing_type.png\"></center>"
   ]
  },
  {
   "cell_type": "markdown",
   "id": "5e215e0b-f0e7-435a-83fb-564afaf1df02",
   "metadata": {},
   "source": [
    "Les parents habitants chez leurs parents ont le plus de difficultés de paiement."
   ]
  },
  {
   "cell_type": "markdown",
   "id": "c254c363-0028-4427-99a4-228004363f05",
   "metadata": {
    "tags": []
   },
   "source": [
    "### <a href=\"projet4.ipynb#C413\"> 4.1.3 Variables numériques vs catégorielles (méthode ANOVA) <a>"
   ]
  },
  {
   "cell_type": "markdown",
   "id": "cd2c5412-466f-44a9-9c8f-c01d091820c5",
   "metadata": {
    "tags": []
   },
   "source": [
    "#### <a href=\"projet4.ipynb#C4131\"> 4.1.3.1 'AMT_INCOME_TOTAL' vs 'NAME_INCOME_TYPE' <a>"
   ]
  },
  {
   "cell_type": "markdown",
   "id": "c06fd3af-2566-4e3e-8a68-add69a260d0d",
   "metadata": {},
   "source": [
    "<center><img alt=\"anova\" src=\"images/anova/name_income_type_vs_amt_income_total.png\"></center>"
   ]
  },
  {
   "cell_type": "markdown",
   "id": "7a99ae9a-3907-49b8-89c1-fa8500c781a8",
   "metadata": {},
   "source": [
    "En général, la catégorie « Businessman » possède les plus gros salaire : intéressant pour effectuer des prêts d’un montant important "
   ]
  },
  {
   "cell_type": "markdown",
   "id": "78fe6ca0-1643-4938-a7d7-51d825da1aa8",
   "metadata": {
    "tags": []
   },
   "source": [
    "## <a href=\"projet4.ipynb#C42\"> 4.2 Analyses univariées <a>"
   ]
  },
  {
   "cell_type": "markdown",
   "id": "af795ad2-0865-45bf-a0ea-8c66d979d434",
   "metadata": {
    "tags": []
   },
   "source": [
    "### <a href=\"projet4.ipynb#C421\"> 4.2.1 Variables numériques <a>"
   ]
  },
  {
   "cell_type": "markdown",
   "id": "c319e2db-ba06-4efa-8254-764accb661ae",
   "metadata": {},
   "source": [
    "#### <a href=\"projet4.ipynb#C4211\"> 4.2.1.1 TARGET <a>"
   ]
  },
  {
   "cell_type": "markdown",
   "id": "fbece253-1a34-4d25-8bf2-49f8d0f78c0c",
   "metadata": {},
   "source": [
    "<center><img alt=\"univarie\" src=\"images/univarie/target.png\"/></center>"
   ]
  },
  {
   "cell_type": "markdown",
   "id": "e8e3d826-d86b-43b5-8932-569a1cff29c0",
   "metadata": {},
   "source": [
    "La proportion de \"0\" est de 92% et la proportion de \"1\" est de 8%. Cette TARGET est donc déséquilibrée et nous analyserons l'influence de ce déséquilibre sur nos futurs modèles."
   ]
  },
  {
   "cell_type": "markdown",
   "id": "f9510f51-c42a-41ec-a8bf-7ac6625e945c",
   "metadata": {},
   "source": [
    "#### <a href=\"projet4.ipynb#C4212\"> 4.2.1.2 DAYS_BIRTH <a>"
   ]
  },
  {
   "cell_type": "markdown",
   "id": "d6a33d9e-1830-49f8-a98d-785fd88d4729",
   "metadata": {},
   "source": [
    "<center><img alt=\"univarie\" src=\"images/univarie/days_birth.png\"/></center>"
   ]
  },
  {
   "cell_type": "markdown",
   "id": "b2159d52-4e6b-46bc-a142-1754bfc1d322",
   "metadata": {},
   "source": [
    "Les clients ont un âge compris entre 20 et 70 ans."
   ]
  },
  {
   "cell_type": "markdown",
   "id": "7d739f4f-57ac-4fc5-8b2c-acb06c56abb3",
   "metadata": {},
   "source": [
    "<table>\n",
    "      <tr>\n",
    "        <th><center>Nom</center></th>\n",
    "        <th><center>Valeur</center></th>\n",
    "      </tr>\n",
    "      <tr>\n",
    "        <td><center>Moyenne</center></td>\n",
    "        <td><center>43.95</center></td>\n",
    "      </tr>\n",
    "        <tr>\n",
    "        <td><center>Mediane</center></td>\n",
    "        <td><center>43.18</center></td>\n",
    "        </tr>\n",
    "       <tr>\n",
    "        <td><center>Mode</center></td>\n",
    "        <td><center>37.67</center></td>\n",
    "       </tr>\n",
    "          <tr>\n",
    "        <td><center>Ecart-type</center></td>\n",
    "        <td><center>11.96</center></td>\n",
    "      </tr>\n",
    "        <tr>\n",
    "        <td><center>Var</center></td>\n",
    "        <td><center>143.01</center></td>\n",
    "        </tr>\n",
    "       <tr>\n",
    "        <td><center>CV</center></td>\n",
    "        <td><center>0.27</center></td>\n",
    "       </tr>\n",
    "       <tr>\n",
    "        <td><center>Q1</center></td>\n",
    "        <td><center>34.01</center></td>\n",
    "       </tr>\n",
    "        <tr>\n",
    "        <td><center>Q2</center></td>\n",
    "        <td><center>43.17</center></td>\n",
    "       </tr>\n",
    "        <tr>\n",
    "        <td><center>Q3</center></td>\n",
    "        <td><center>53.94</center></td>\n",
    "       </tr>\n",
    "</table>"
   ]
  },
  {
   "cell_type": "markdown",
   "id": "e89668d5-b3e5-4ea5-9c85-4d01f98946a0",
   "metadata": {},
   "source": [
    "<b>Tendances centrales</b><br>\n",
    "Le mode est de 37,67. Ce qui signifie que c'est la valeur la plus fréquente qui apparait dans le jeu de données (d’où le max atteint sur l'histogramme sur 37.67 ans). Cela étant dit la moyenne globale est de 43.95 avec une médiane à 43.18. Cette dernière valeur signifie que j’ai autant de valeurs supérieures ou inférieures à 43.18.<br>\n",
    "<b>Dispersions</b> <br>\n",
    "Concernant les mesures de dispersions, la variance empirique est de 143.01. Cette valeur nous montre que les mesures sont assez dispersées autour de la valeur moyenne. Cette dispersion est aussi illustrée par l'écart-type 11.96 (qui est tout simplement la racine carrée de la variance empirique). Le coefficient de variation = 0.27 (écart-type empirique/moyenne).<br>\n",
    "Le 1er Quartile = 34,01 : 25% des valeurs sont en dessous de cette valeur et 75% sont au-dessus<br>\n",
    "Le 2eme Quartile = 43,17 = valeur médiane vu au-dessus : 50% des valeurs sont en dessous de cette valeur et 50% au-dessus<br>\n",
    "Le 3eme Quartile = 53,94 = 75% des valeurs sont en dessous de cette valeur et 25% au-dessus<br>\n",
    "L'écart interquartile = 53,94-34.01 = 19.93<br>\n",
    "50% des valeurs se situent entre 53.94 et 34.01 "
   ]
  },
  {
   "cell_type": "markdown",
   "id": "02487c62-12b1-4f49-a56d-284ab021aa82",
   "metadata": {},
   "source": [
    "#### <a href=\"projet4.ipynb#C4213\"> 4.2.1.3 SOURCE_EXT_1 <a>"
   ]
  },
  {
   "cell_type": "markdown",
   "id": "d514e58b-a84d-4994-bc39-4e6607063895",
   "metadata": {},
   "source": [
    "<center><img alt=\"univarie\" src=\"images/univarie/ext_source_1.png\"/></center>"
   ]
  },
  {
   "cell_type": "markdown",
   "id": "cf9f18c9-0a39-406c-82f3-68a580c6cdea",
   "metadata": {},
   "source": [
    "<table>\n",
    "      <tr>\n",
    "        <th><center>Nom</center></th>\n",
    "        <th><center>Valeur</center></th>\n",
    "      </tr>\n",
    "      <tr>\n",
    "        <td><center>Moyenne</center></td>\n",
    "        <td><center>0.5</center></td>\n",
    "      </tr>\n",
    "        <tr>\n",
    "        <td><center>Mediane</center></td>\n",
    "        <td><center>0.5</center></td>\n",
    "        </tr>\n",
    "       <tr>\n",
    "        <td><center>Mode</center></td>\n",
    "        <td><center>0.5</center></td>\n",
    "       </tr>\n",
    "          <tr>\n",
    "        <td><center>Ecart-type</center></td>\n",
    "        <td><center>0.14</center></td>\n",
    "      </tr>\n",
    "        <tr>\n",
    "        <td><center>Var</center></td>\n",
    "        <td><center>0.02</center></td>\n",
    "        </tr>\n",
    "       <tr>\n",
    "        <td><center>CV</center></td>\n",
    "        <td><center>0.28</center></td>\n",
    "       </tr>\n",
    "       <tr>\n",
    "        <td><center>Q1</center></td>\n",
    "        <td><center>0.5</center></td>\n",
    "       </tr>\n",
    "        <tr>\n",
    "        <td><center>Q2</center></td>\n",
    "        <td><center>0.5</center></td>\n",
    "       </tr>\n",
    "        <tr>\n",
    "        <td><center>Q3</center></td>\n",
    "        <td><center>0.5</center></td>\n",
    "       </tr>\n",
    "</table>"
   ]
  },
  {
   "cell_type": "markdown",
   "id": "5aa59941-7eed-4b7d-a320-80de2e6ed443",
   "metadata": {},
   "source": [
    "<b>Tendances centrales</b><br>\n",
    "Le mode est de 0.5. Ce qui signifie que c'est la valeur la plus fréquente qui apparait dans le jeu de données (d’où le max atteint sur l'histogramme sur 0.5 ans). Cela étant dit la moyenne globale est de 0.5 avec une médiane à 0.5. Cette dernière valeur signifie que j’ai autant de valeurs supérieures ou inférieures à 0.5.<br>\n",
    "<b>Dispersions</b> <br>\n",
    "Concernant les mesures de dispersions, la variance empirique est de 0.02. Cette valeur nous montre que les mesures sont peu dispersées autour de la valeur moyenne. Cette dispersion est aussi illustrée par l'écart-type 0.14 (qui est tout simplement la racine carrée de la variance empirique). Le coefficient de variation = 0.02 (écart-type empirique/moyenne).<br>\n",
    "Le 1er Quartile = 0.5 : 25% des valeurs sont en dessous de cette valeur et 75% sont au-dessus<br>\n",
    "Le 2eme Quartile = 0.5 = valeur médiane vu au-dessus : 50% des valeurs sont en dessous de cette valeur et 50% au-dessus<br>\n",
    "Le 3eme Quartile = 0.5 = 75% des valeurs sont en dessous de cette valeur et 25% au-dessus<br>\n",
    "L'écart interquartile = 0.5-0.5 = 0<br>\n",
    "50% des valeurs sont égales à 0.5"
   ]
  },
  {
   "cell_type": "markdown",
   "id": "fd9145c9-f580-4ac9-8bcc-bd26bbccb303",
   "metadata": {},
   "source": [
    "#### <a href=\"projet4.ipynb#C4214\"> 4.2.1.4 SOURCE_EXT_2 <a>"
   ]
  },
  {
   "cell_type": "markdown",
   "id": "3012c387-7343-4d19-a363-b10587d87472",
   "metadata": {},
   "source": [
    "<center><img alt=\"univarie\" src=\"images/univarie/ext_source_2.png\"/></center>"
   ]
  },
  {
   "cell_type": "markdown",
   "id": "c1514222-6c25-4a67-a0b9-432274f70d19",
   "metadata": {},
   "source": [
    "<table>\n",
    "      <tr>\n",
    "        <th><center>Nom</center></th>\n",
    "        <th><center>Valeur</center></th>\n",
    "      </tr>\n",
    "      <tr>\n",
    "        <td><center>Moyenne</center></td>\n",
    "        <td><center>0.51</center></td>\n",
    "      </tr>\n",
    "        <tr>\n",
    "        <td><center>Mediane</center></td>\n",
    "        <td><center>0.57</center></td>\n",
    "        </tr>\n",
    "       <tr>\n",
    "        <td><center>Mode</center></td>\n",
    "        <td><center>0.29</center></td>\n",
    "       </tr>\n",
    "          <tr>\n",
    "        <td><center>Ecart-type</center></td>\n",
    "        <td><center>0.19</center></td>\n",
    "      </tr>\n",
    "        <tr>\n",
    "        <td><center>Var</center></td>\n",
    "        <td><center>0.04</center></td>\n",
    "        </tr>\n",
    "       <tr>\n",
    "        <td><center>CV</center></td>\n",
    "        <td><center>0.37</center></td>\n",
    "       </tr>\n",
    "       <tr>\n",
    "        <td><center>Q1</center></td>\n",
    "        <td><center>0.39</center></td>\n",
    "       </tr>\n",
    "        <tr>\n",
    "        <td><center>Q2</center></td>\n",
    "        <td><center>0.57</center></td>\n",
    "       </tr>\n",
    "        <tr>\n",
    "        <td><center>Q3</center></td>\n",
    "        <td><center>0.66</center></td>\n",
    "       </tr>\n",
    "</table>"
   ]
  },
  {
   "cell_type": "markdown",
   "id": "fd260941-f0db-42bf-a086-a990ef142994",
   "metadata": {},
   "source": [
    "<b>Tendances centrales</b><br>\n",
    "Le mode est de 0.29. Ce qui signifie que c'est la valeur la plus fréquente qui apparait dans le jeu de données. Cela étant dit la moyenne globale est de 0.51 avec une médiane à 0.57. Cette dernière valeur signifie que j’ai autant de valeurs supérieures ou inférieures à 0.57.<br>\n",
    "<b>Dispersions</b> <br>\n",
    "Concernant les mesures de dispersions, la variance empirique est de 0.04. Cette valeur nous montre que les mesures sont peu dispersées autour de la valeur moyenne. Cette dispersion est aussi illustrée par l'écart-type 0.19 (qui est tout simplement la racine carrée de la variance empirique). Le coefficient de variation = 0.37 (écart-type empirique/moyenne).<br>\n",
    "Le 1er Quartile = 0.39 : 25% des valeurs sont en dessous de cette valeur et 75% sont au-dessus<br>\n",
    "Le 2eme Quartile = 0.57 = valeur médiane vu au-dessus : 50% des valeurs sont en dessous de cette valeur et 50% au-dessus<br>\n",
    "Le 3eme Quartile = 0.66 = 75% des valeurs sont en dessous de cette valeur et 25% au-dessus<br>\n",
    "L'écart interquartile = 0.66-0.39 = 0.27<br>\n",
    "50% des valeurs se situent entre 0.66 et 0.39"
   ]
  },
  {
   "cell_type": "markdown",
   "id": "8376ba3e-5bd3-4fdf-b81d-7936f031bd5c",
   "metadata": {},
   "source": [
    "#### <a href=\"projet4.ipynb#C4215\"> 4.2.1.5 SOURCE_EXT_3 <a>"
   ]
  },
  {
   "cell_type": "markdown",
   "id": "de521d89-e74d-475e-8505-b412287f6459",
   "metadata": {},
   "source": [
    "<center><img alt=\"univarie\" src=\"images/univarie/ext_source_3.png\"/></center>"
   ]
  },
  {
   "cell_type": "markdown",
   "id": "964de902-586c-42c2-9d5e-2a90902fdc08",
   "metadata": {},
   "source": [
    "<table>\n",
    "      <tr>\n",
    "        <th><center>Nom</center></th>\n",
    "        <th><center>Valeur</center></th>\n",
    "      </tr>\n",
    "      <tr>\n",
    "        <td><center>Moyenne</center></td>\n",
    "        <td><center>0.51</center></td>\n",
    "      </tr>\n",
    "        <tr>\n",
    "        <td><center>Mediane</center></td>\n",
    "        <td><center>0.5</center></td>\n",
    "        </tr>\n",
    "       <tr>\n",
    "        <td><center>Mode</center></td>\n",
    "        <td><center>0.5</center></td>\n",
    "       </tr>\n",
    "          <tr>\n",
    "        <td><center>Ecart-type</center></td>\n",
    "        <td><center>0.17</center></td>\n",
    "      </tr>\n",
    "        <tr>\n",
    "        <td><center>Var</center></td>\n",
    "        <td><center>0.03</center></td>\n",
    "        </tr>\n",
    "       <tr>\n",
    "        <td><center>CV</center></td>\n",
    "        <td><center>0.34</center></td>\n",
    "       </tr>\n",
    "       <tr>\n",
    "        <td><center>Q1</center></td>\n",
    "        <td><center>0.42</center></td>\n",
    "       </tr>\n",
    "        <tr>\n",
    "        <td><center>Q2</center></td>\n",
    "        <td><center>0.5</center></td>\n",
    "       </tr>\n",
    "        <tr>\n",
    "        <td><center>Q3</center></td>\n",
    "        <td><center>0.64</center></td>\n",
    "       </tr>\n",
    "</table>"
   ]
  },
  {
   "cell_type": "markdown",
   "id": "34d94abb-dbb2-4fe8-ba97-acab1b0b393e",
   "metadata": {},
   "source": [
    "<b>Tendances centrales</b><br>\n",
    "Le mode est de 0.5. Ce qui signifie que c'est la valeur la plus fréquente qui apparait dans le jeu de données (d'où le spike sur 0.5). Cela étant dit la moyenne globale est de 0.51 avec une médiane à 0.5. Cette dernière valeur signifie que j’ai autant de valeurs supérieures ou inférieures à 0.5.<br>\n",
    "<b>Dispersions</b> <br>\n",
    "Concernant les mesures de dispersions, la variance empirique est de 0.03. Cette valeur nous montre que les mesures sont peu dispersées autour de la valeur moyenne. Cette dispersion est aussi illustrée par l'écart-type 0.17 (qui est tout simplement la racine carrée de la variance empirique). Le coefficient de variation = 0.03 (écart-type empirique/moyenne).<br>\n",
    "Le 1er Quartile = 0.42 : 25% des valeurs sont en dessous de cette valeur et 75% sont au-dessus<br>\n",
    "Le 2eme Quartile = 0.5 = valeur médiane vu au-dessus : 50% des valeurs sont en dessous de cette valeur et 50% au-dessus<br>\n",
    "Le 3eme Quartile = 0.64 = 75% des valeurs sont en dessous de cette valeur et 25% au-dessus<br>\n",
    "L'écart interquartile = 0.64-0.42 = 0.22<br>\n",
    "50% des valeurs se situent entre 0.42 et 0.64"
   ]
  },
  {
   "cell_type": "markdown",
   "id": "58fe9388-4111-4c0f-a2bb-dce50cc13696",
   "metadata": {},
   "source": [
    "#### <a href=\"projet4.ipynb#C4216\"> 4.2.1.6  AMT_GOOD_PRICES<a>"
   ]
  },
  {
   "cell_type": "markdown",
   "id": "66b65842-34a8-4481-a50b-421545cdb8ae",
   "metadata": {},
   "source": [
    "<center><img alt=\"univarie\" src=\"images/univarie/amt_goods_price.png\"/></center>"
   ]
  },
  {
   "cell_type": "markdown",
   "id": "800c385c-110d-41d0-bfbe-87340f2f94bb",
   "metadata": {},
   "source": [
    "On remarque certains spikes montrant une similitude de prix entre les biens."
   ]
  },
  {
   "cell_type": "markdown",
   "id": "60566a70-c366-4cca-9e9b-645a4750d091",
   "metadata": {},
   "source": [
    "<table>\n",
    "      <tr>\n",
    "        <th><center>Nom</center></th>\n",
    "        <th><center>Valeur</center></th>\n",
    "      </tr>\n",
    "      <tr>\n",
    "        <td><center>Moyenne</center></td>\n",
    "        <td><center>538953.88</center></td>\n",
    "      </tr>\n",
    "        <tr>\n",
    "        <td><center>Mediane</center></td>\n",
    "        <td><center>450000</center></td>\n",
    "        </tr>\n",
    "       <tr>\n",
    "        <td><center>Mode</center></td>\n",
    "        <td><center>450000</center></td>\n",
    "       </tr>\n",
    "          <tr>\n",
    "        <td><center>Ecart-type</center></td>\n",
    "        <td><center>369562.67</center></td>\n",
    "      </tr>\n",
    "        <tr>\n",
    "        <td><center>Var</center></td>\n",
    "        <td><center>136576566421.77</center></td>\n",
    "        </tr>\n",
    "       <tr>\n",
    "        <td><center>CV</center></td>\n",
    "        <td><center>0.69</center></td>\n",
    "       </tr>\n",
    "       <tr>\n",
    "        <td><center>Q1</center></td>\n",
    "        <td><center>238500</center></td>\n",
    "       </tr>\n",
    "        <tr>\n",
    "        <td><center>Q2</center></td>\n",
    "        <td><center>450000</center></td>\n",
    "       </tr>\n",
    "        <tr>\n",
    "        <td><center>Q3</center></td>\n",
    "        <td><center>679500</center></td>\n",
    "       </tr>\n",
    "</table>"
   ]
  },
  {
   "cell_type": "markdown",
   "id": "4abee9c0-21ea-4476-82e0-fe361b1abc00",
   "metadata": {},
   "source": [
    "<b>Tendances centrales</b><br>\n",
    "Le mode est de 450000. Ce qui signifie que c'est la valeur la plus fréquente qui apparait dans le jeu de données (d'où le spike sur 450000). Cela étant dit la moyenne globale est de 538953.88 avec une médiane à 450000. Cette dernière valeur signifie que j’ai autant de valeurs supérieures ou inférieures à 450000.<br>\n",
    "<b>Dispersions</b> <br>\n",
    "Concernant les mesures de dispersions, la variance empirique est de 136 576 566 421.77. Cette valeur nous montre que les mesures sont assez dispersées autour de la valeur moyenne. Cette dispersion est aussi illustrée par l'écart-type 369562.67 (qui est tout simplement la racine carrée de la variance empirique). Le coefficient de variation = 0.69 (écart-type empirique/moyenne).<br>\n",
    "Le 1er Quartile = 238500 : 25% des valeurs sont en dessous de cette valeur et 75% sont au-dessus<br>\n",
    "Le 2eme Quartile = 450000 = valeur médiane vu au-dessus : 50% des valeurs sont en dessous de cette valeur et 50% au-dessus<br>\n",
    "Le 3eme Quartile = 679500 = 75% des valeurs sont en dessous de cette valeur et 25% au-dessus<br>\n",
    "L'écart interquartile = 679500-238500 = 441000<br>\n",
    "50% des valeurs se situent entre 238500 et 679500"
   ]
  },
  {
   "cell_type": "markdown",
   "id": "f218f080-d468-40b9-b46a-64edf1ebd318",
   "metadata": {},
   "source": [
    "#### <a href=\"projet4.ipynb#C4217\"> 4.2.1.7  AMT_CREDIT<a>"
   ]
  },
  {
   "cell_type": "markdown",
   "id": "5350c0bc-1450-45f6-a7e1-350ade5c14e7",
   "metadata": {},
   "source": [
    "<center><img alt=\"univarie\" src=\"images/univarie/amt_credit.png\"/></center>"
   ]
  },
  {
   "cell_type": "markdown",
   "id": "02a45159-c65c-4650-b485-f65aef9a19e9",
   "metadata": {},
   "source": [
    "<table>\n",
    "      <tr>\n",
    "        <th><center>Nom</center></th>\n",
    "        <th><center>Valeur</center></th>\n",
    "      </tr>\n",
    "      <tr>\n",
    "        <td><center>Moyenne</center></td>\n",
    "        <td><center>600074.86</center></td>\n",
    "      </tr>\n",
    "        <tr>\n",
    "        <td><center>Mediane</center></td>\n",
    "        <td><center>517500</center></td>\n",
    "        </tr>\n",
    "       <tr>\n",
    "        <td><center>Mode</center></td>\n",
    "        <td><center>450000</center></td>\n",
    "       </tr>\n",
    "          <tr>\n",
    "        <td><center>Ecart-type</center></td>\n",
    "        <td><center>402689.56</center></td>\n",
    "      </tr>\n",
    "        <tr>\n",
    "        <td><center>Var</center></td>\n",
    "        <td><center>162158883826.58</center></td>\n",
    "        </tr>\n",
    "       <tr>\n",
    "        <td><center>CV</center></td>\n",
    "        <td><center>0.67</center></td>\n",
    "       </tr>\n",
    "       <tr>\n",
    "        <td><center>Q1</center></td>\n",
    "        <td><center>270000</center></td>\n",
    "       </tr>\n",
    "        <tr>\n",
    "        <td><center>Q2</center></td>\n",
    "        <td><center>517500</center></td>\n",
    "       </tr>\n",
    "        <tr>\n",
    "        <td><center>Q3</center></td>\n",
    "        <td><center>808650</center></td>\n",
    "       </tr>\n",
    "</table>"
   ]
  },
  {
   "cell_type": "markdown",
   "id": "42e47c0d-d882-4dba-8e6b-0ad96c933b25",
   "metadata": {},
   "source": [
    "<b>Tendances centrales</b><br>\n",
    "Le mode est de 450000. Ce qui signifie que c'est la valeur la plus fréquente qui apparait dans le jeu de données (d'où le spike sur 450000). Cela étant dit la moyenne globale est de 600074.86 avec une médiane à 517500. Cette dernière valeur signifie que j’ai autant de valeurs supérieures ou inférieures à 517500.<br>\n",
    "<b>Dispersions</b> <br>\n",
    "Concernant les mesures de dispersions, la variance empirique est de 162 158 883 826.58. Cette valeur nous montre que les mesures sont assez dispersées autour de la valeur moyenne. Cette dispersion est aussi illustrée par l'écart-type 402689.56 (qui est tout simplement la racine carrée de la variance empirique). Le coefficient de variation = 0.67 (écart-type empirique/moyenne).<br>\n",
    "Le 1er Quartile = 270000 : 25% des valeurs sont en dessous de cette valeur et 75% sont au-dessus<br>\n",
    "Le 2eme Quartile = 517500 = valeur médiane vu au-dessus : 50% des valeurs sont en dessous de cette valeur et 50% au-dessus<br>\n",
    "Le 3eme Quartile = 808650 = 75% des valeurs sont en dessous de cette valeur et 25% au-dessus<br>\n",
    "L'écart interquartile = 808650-270000 = 538 650<br>\n",
    "50% des valeurs se situent entre 270000 et 808650"
   ]
  },
  {
   "cell_type": "markdown",
   "id": "3bdf8c00-1db3-4ce9-bbbb-9721d700b054",
   "metadata": {},
   "source": [
    "#### <a href=\"projet4.ipynb#C4218\"> 4.2.1.8  AMT_ANNUITY<a>"
   ]
  },
  {
   "cell_type": "markdown",
   "id": "51a4b48c-28fb-4f24-b6ee-e96074601c59",
   "metadata": {},
   "source": [
    "<center><img alt=\"univarie\" src=\"images/univarie/amt_annuity.png\"/></center>"
   ]
  },
  {
   "cell_type": "markdown",
   "id": "b9f9a4a1-83d4-4689-9317-8b5a62e1ed41",
   "metadata": {},
   "source": [
    "<table>\n",
    "      <tr>\n",
    "        <th><center>Nom</center></th>\n",
    "        <th><center>Valeur</center></th>\n",
    "      </tr>\n",
    "      <tr>\n",
    "        <td><center>Moyenne</center></td>\n",
    "        <td><center>27143.03</center></td>\n",
    "      </tr>\n",
    "        <tr>\n",
    "        <td><center>Mediane</center></td>\n",
    "        <td><center>24939</center></td>\n",
    "        </tr>\n",
    "       <tr>\n",
    "        <td><center>Mode</center></td>\n",
    "        <td><center>9000</center></td>\n",
    "       </tr>\n",
    "          <tr>\n",
    "        <td><center>Ecart-type</center></td>\n",
    "        <td><center>14476.87</center></td>\n",
    "      </tr>\n",
    "        <tr>\n",
    "        <td><center>Var</center></td>\n",
    "        <td><center>209579778.3</center></td>\n",
    "        </tr>\n",
    "       <tr>\n",
    "        <td><center>CV</center></td>\n",
    "        <td><center>0.53</center></td>\n",
    "       </tr>\n",
    "       <tr>\n",
    "        <td><center>Q1</center></td>\n",
    "        <td><center>16573.5</center></td>\n",
    "       </tr>\n",
    "        <tr>\n",
    "        <td><center>Q2</center></td>\n",
    "        <td><center>24939</center></td>\n",
    "       </tr>\n",
    "        <tr>\n",
    "        <td><center>Q3</center></td>\n",
    "        <td><center>34636.5</center></td>\n",
    "       </tr>\n",
    "</table>"
   ]
  },
  {
   "cell_type": "markdown",
   "id": "44125e4a-8910-4814-a598-98f32970c740",
   "metadata": {},
   "source": [
    "<b>Tendances centrales</b><br>\n",
    "Le mode est de 9000. Ce qui signifie que c'est la valeur la plus fréquente qui apparait dans le jeu de données. Cela étant dit la moyenne globale est de 27143.03 avec une médiane à 24939. Cette dernière valeur signifie que j’ai autant de valeurs supérieures ou inférieures à 24939.<br>\n",
    "<b>Dispersions</b> <br>\n",
    "Concernant les mesures de dispersions, la variance empirique est de 209 579 778.3. Cette valeur nous montre que les mesures sont assez dispersées autour de la valeur moyenne. Cette dispersion est aussi illustrée par l'écart-type 14476.87 (qui est tout simplement la racine carrée de la variance empirique). Le coefficient de variation = 0.53 (écart-type empirique/moyenne).<br>\n",
    "Le 1er Quartile = 16573.5 : 25% des valeurs sont en dessous de cette valeur et 75% sont au-dessus<br>\n",
    "Le 2eme Quartile = 24939 = valeur médiane vu au-dessus : 50% des valeurs sont en dessous de cette valeur et 50% au-dessus<br>\n",
    "Le 3eme Quartile = 34636.5 = 75% des valeurs sont en dessous de cette valeur et 25% au-dessus<br>\n",
    "L'écart interquartile = 34636.5-16573.5 = 18063<br>\n",
    "50% des valeurs se situent entre 16573.5 et 34636.5"
   ]
  },
  {
   "cell_type": "markdown",
   "id": "3af07199-64ec-4781-9826-b4801049719a",
   "metadata": {
    "tags": []
   },
   "source": [
    "### <a href=\"projet4.ipynb#C422\"> 4.2.2 Variables catégorielles <a>"
   ]
  },
  {
   "cell_type": "markdown",
   "id": "5c5d8338-c653-495f-82f7-4a67332e83b6",
   "metadata": {
    "tags": []
   },
   "source": [
    "#### <a href=\"projet4.ipynb#C4221\"> 4.2.2.1 CODE GENDER <a>"
   ]
  },
  {
   "cell_type": "markdown",
   "id": "65b6c75f-3671-49d4-bf96-c9750136e664",
   "metadata": {},
   "source": [
    "<center><img alt=\"univarie\" src=\"images/univarie/code_gender.png\"/></center>"
   ]
  },
  {
   "cell_type": "markdown",
   "id": "2a8d4501-6127-4546-9c31-d369b68d00b8",
   "metadata": {},
   "source": [
    "Les femmes représentent plus de 65% de l'effectif total."
   ]
  },
  {
   "cell_type": "markdown",
   "id": "fa730648-e26c-4077-8477-585c4c43c6ac",
   "metadata": {
    "tags": []
   },
   "source": [
    "#### <a href=\"projet4.ipynb#C4222\"> 4.2.2.2 OCCUPATION_TYPE <a>"
   ]
  },
  {
   "cell_type": "markdown",
   "id": "6a2d3e3c-6fcc-4ef7-adf8-c2a6886f2b3f",
   "metadata": {},
   "source": [
    "<center><img alt=\"univarie\" src=\"images/univarie/occupation_type.png\"/></center>"
   ]
  },
  {
   "cell_type": "markdown",
   "id": "c0a46b2b-94c2-4e15-8b91-1539fee27f52",
   "metadata": {},
   "source": [
    "La catégorie \"ouvriers représente la majorité (18%) de l'effectif total en attendant que \"Not defined\"(31.35%) soit classé."
   ]
  },
  {
   "cell_type": "markdown",
   "id": "564913c1-6fbb-4d8d-aebb-f982bd0cb4d1",
   "metadata": {
    "tags": []
   },
   "source": [
    "#### <a href=\"projet4.ipynb#C4223\"> 4.2.2.3 NAME_INCOME_TYPE <a>"
   ]
  },
  {
   "cell_type": "markdown",
   "id": "3e9efcec-cf45-4c09-bfba-325eb68c256b",
   "metadata": {},
   "source": [
    "<center><img alt=\"univarie\" src=\"images/univarie/name_income_type.png\"/></center>"
   ]
  },
  {
   "cell_type": "markdown",
   "id": "7ca490b6-8688-48c8-9a49-3ca4ef0067df",
   "metadata": {},
   "source": [
    "La majorité de l'effectif est représentée par la catégorie \"WORKING\" (51.6%)."
   ]
  },
  {
   "cell_type": "markdown",
   "id": "ad11f847-12f9-47ca-96e3-efc24863a724",
   "metadata": {
    "tags": []
   },
   "source": [
    "#### <a href=\"projet4.ipynb#C4224\"> 4.2.2.4 NAME_HOUSING_TYPE <a>"
   ]
  },
  {
   "cell_type": "markdown",
   "id": "a3207d65-305e-48cb-9879-f0d110319e43",
   "metadata": {},
   "source": [
    "<center><img alt=\"univarie\" src=\"images/univarie/name_housing_type.png\"/></center>"
   ]
  },
  {
   "cell_type": "markdown",
   "id": "218eb7f1-4b83-43fe-a6b4-9b9ecf95c384",
   "metadata": {},
   "source": [
    "La majorité de l'effectif habite dans une maison ou un appartement (88,7%)."
   ]
  },
  {
   "cell_type": "markdown",
   "id": "3a235ecd-a5e4-4da0-bd7b-b2db7ca903d9",
   "metadata": {
    "tags": []
   },
   "source": [
    "#### <a href=\"projet4.ipynb#C4225\"> 4.2.2.5 NAME_EDUCATION_TYPE <a>"
   ]
  },
  {
   "cell_type": "markdown",
   "id": "d3eb6f57-ebf4-4327-bf03-f1fa87ad332a",
   "metadata": {},
   "source": [
    "<center><img alt=\"univarie\" src=\"images/univarie/name_education_type.png\"/></center>"
   ]
  },
  {
   "cell_type": "markdown",
   "id": "d521c7ef-0f35-414e-b920-893942f0a50d",
   "metadata": {},
   "source": [
    "Le niveau d'étude majorant de l'effectif est \"école secondaire\" (71%)."
   ]
  },
  {
   "cell_type": "markdown",
   "id": "ec9dc701-a1a5-4a31-aaf1-606b76561906",
   "metadata": {},
   "source": [
    "# 5. MODELISATION"
   ]
  },
  {
   "cell_type": "markdown",
   "id": "d74bd1ec-5478-42ec-92db-b950ed94626b",
   "metadata": {},
   "source": [
    "Dans le cadre de la modélisation, des métriques sont à définir pour mesurer la performance de notre modèle vis à vis de la problématique. En effet, il ne faut pas accepter un prêt à quelqu'un qui a un fort risque de non-remboursement ; le nombre de Faux Positif doit donc être le plus bas possible (Faux Positif = False Positif= FP). Aussi, on ne peut pas non plus refuser un prêt à quelqu'un qui a la capacité de le rembourser le prêt ; le nombre de Faux Négatifs, doit également le plus bas possible (Faux Négatif = false Negative = FN).<br>\n",
    "Pour rappel, voici la signification des TARGETs :<br>\n",
    "-TARGET = 0 : client sans difficultés de paiement<br>\n",
    "-TARGET = 1 : client avec difficultés de paiement<br>\n",
    "Voici la matrice de confusion associée notre problématique :<br>\n",
    "<center><img alt=\"confusion\" src=\"images/confusion.png\"></center>\n"
   ]
  },
  {
   "cell_type": "markdown",
   "id": "d73a38d5-4c1a-4584-8eb7-12180fedeb97",
   "metadata": {},
   "source": [
    "Le nombre de Vrais Positifs (True Positive (TP)) et le nombre de Vrais négatifs (True Negative (TN)) étant le nombre de bonnes prédictions respectivement positifs et négatifs, nous avons donc les formules suivantes : <br>"
   ]
  },
  {
   "cell_type": "markdown",
   "id": "39a7d22f-a4d9-49a2-9d22-bb013e6b56cc",
   "metadata": {},
   "source": [
    "<center><img alt=\"rappel\" src=\"images/modeles/rappel.png\"></center>\n",
    "Taux de « True Positif (TP) » : proportion de positif correctement prédite.<br>\n",
    "C’est la capacité de notre modèle à identifier toutes les personnes ne pouvant pas avoir un accord de prêt.<br>\n",
    "Il faut un « rappel » élevé : proche de 1 et donc minimiser FN <br>\n",
    "<center><img alt=\"precision\" src=\"images/modeles/precision.png\"></center>\n",
    "C'est la proportion de prédiction correctes parmi les points que l’on a prédits positif.<br>\n",
    "C’est la capacité de notre modèle à ne pas accorder un prêt qu’aux  personnes n’étant pas capable de le rembourser.<br>\n",
    "Il faut une « précision » élevée : proche de 1 et donc minimiser FP<br><br>\n",
    "\n",
    "Il faut trouver un compromis entre les 2 : \n",
    "on va donc calculer le F1-score / F-mesure qui est une formule qui rassemble Rappel et Précision : <br>\n",
    "<center><img alt=\"f1\" src=\"images/modeles/f1.png\"></center><br>\n",
    "L'objectif sera donc de maximiser le F-mesure (F1_score) et donc de minimiser FN et FP.<br>\n",
    "On ajoutera à cette mesure, l'air sous la courbe ROC : aire qui devra être la plus proche de AUC= 1.<br>\n",
    "Exemple : \n",
    "<center><img alt=\"AUC\" src=\"images/modeles/cf1/logistic_regression_cf1.png\"></center><br>\n"
   ]
  },
  {
   "cell_type": "markdown",
   "id": "211cbcfc-e312-4b0e-98bf-37a2f586cdf8",
   "metadata": {},
   "source": [
    "Aussi, dans notre cas, prédire un faux négatif (FN) : accepté un prêt à quelqu'un qui ne le remboursera pas est bien plus impactant que de refuser un prêt à quelqu'un qui aurait pu en avoir un (FP). On va donc pondérer x10 la valeur de FN afin d'avoir un F1 score à l'image de la gravité d'avoir un modèle ayant un FN trop élevé. <br>\n",
    "<center><img alt=\"f1p\" src=\"images/modeles/f1p.png\"></center><br>"
   ]
  },
  {
   "cell_type": "markdown",
   "id": "3fb3b331-e07f-4102-a2f5-5b15f83ba2d0",
   "metadata": {},
   "source": [
    "Conclusion : les métriques à surveillés sont : F1-score, F1-score pondéré (10xFN) et AUC.<br>\n",
    "Dans le cadre d’optimisation : améliorer l’aire AUC sans dégrader le F1 score et donc la Précision+ le Rappel"
   ]
  },
  {
   "cell_type": "markdown",
   "id": "f9dd0b2c-3f42-4726-bfad-7b987d15f5dc",
   "metadata": {
    "tags": []
   },
   "source": [
    "## <a href=\"projet4.ipynb#C51\"> 5.1 Préparation des données <a>"
   ]
  },
  {
   "cell_type": "markdown",
   "id": "ecd864c3-8353-4d1f-a30a-b211b20b1725",
   "metadata": {},
   "source": [
    "Avant de réaliser nos modèles, le jeu de données à besoin d'être configuré avant d'être mis en forme : "
   ]
  },
  {
   "cell_type": "markdown",
   "id": "f577ba8a-f34d-42a2-b9ed-567f2389d099",
   "metadata": {
    "tags": []
   },
   "source": [
    "### <a href=\"projet4.ipynb#C511\"> 5.1.1 Configuration 1 <a>"
   ]
  },
  {
   "cell_type": "markdown",
   "id": "c123ede3-65a5-4b71-89b9-cd5976186b76",
   "metadata": {},
   "source": [
    "Dans cette configuration, nous allons : <br>\n",
    "1. Découper le jeu de données et jeu d'entrainement et jeu de test \n",
    "2. Standardiser les variables numériques : pour éviter qu'une valeur ait plus de poids qu'une autre dû à un problème d'unité (ex : 1000g = 1kg)\n",
    "3. Encoder les variables catégorielles : le dataframe contient des variables catégorielles qu'il faut transformer en numérique grâce aux méthode \"Label encoding\" et \"One hot encoding\"\n",
    "\n"
   ]
  },
  {
   "cell_type": "markdown",
   "id": "836ae577-fc7a-4f75-b07b-12b8bf7633bb",
   "metadata": {},
   "source": [
    "<table>\n",
    "      <tr>\n",
    "        <th><center>Modèle</center></th>\n",
    "        <th><center>F1-score(1)</center></th>\n",
    "        <th><center>F1-score_pond(1)</center></th>\n",
    "        <th><center>AUC (1)</center></th>\n",
    "      </tr>\n",
    "      <tr>\n",
    "        <td><center><a href=\"projet4.ipynb#C521\">Dummy Classifieur<a></center></td>\n",
    "        <td><center>0</center></td>\n",
    "        <td><center>0</center></td>\n",
    "        <td><center>0.5</center></td>\n",
    "      </tr>\n",
    "        <tr>\n",
    "        <td><center><a href=\"projet4.ipynb#C522\">Logistic Regression<a></center></td>\n",
    "        <td><center>0.02</center></td>\n",
    "        <td><center>0.002</center></td>\n",
    "        <td><center>0.51</center></td>\n",
    "        </tr>\n",
    "       <tr>\n",
    "        <td><center><a href=\"projet4.ipynb#C523\">Linear SVC<a></center></td>\n",
    "        <td><center>0</center></td>\n",
    "        <td><center>0</center></td>\n",
    "        <td><center>0.5</center></td>\n",
    "       </tr>\n",
    "          <tr>\n",
    "        <td><center><a href=\"projet4.ipynb#C524\">Random Forest<a></center></td>\n",
    "        <td><center>0.03</center></td>\n",
    "        <td><center>0.003</center></td>\n",
    "        <td><center>0.51</center></td>\n",
    "      </tr>\n",
    "</table>"
   ]
  },
  {
   "cell_type": "markdown",
   "id": "e7428030-709d-478e-a298-5dc7d9336eab",
   "metadata": {},
   "source": [
    "On se rend compte ici que la target non équilibrée provoque des valeurs de F1-score très faibles et des valeurs de AUC proche de 0.5 pour tous les classifiers. Dans ce cas nos 3 derniers classifieurs ne font pas mieux que le \"Dummy Classifieur\". Seuls les classifieurs \"logistic regression\" et \"Random Forest\" se démarquent avec un F1 et un AUC plus élevé que les autres mais cela reste un résultat pas du tout satisfaisant.<br>\n",
    "Voici le courbe ROC correspondant au classifier \"Logistic Regression\" : \n",
    "<center><img alt=\"AUC\" src=\"images/modeles/cf1/logistic_regression_cf1.png\"></center><br>\n"
   ]
  },
  {
   "cell_type": "markdown",
   "id": "b7e1af38-9c0c-4ba4-b76a-59a7de5e1ede",
   "metadata": {},
   "source": [
    "### <a href=\"projet4.ipynb#C512\"> 5.1.2 Configuration 2 <a>"
   ]
  },
  {
   "cell_type": "markdown",
   "id": "264b1d17-54b5-42f8-b214-b1d4401bdf42",
   "metadata": {},
   "source": [
    "Dans cette configuration, nous allons : <br>\n",
    "1. Equilibrer la TARGET qui ne l'est pas dans le jeu de données initial grace à SMOTE NC\n",
    "2. Découper le jeu de données et jeu d'entrainement et jeu de test\n",
    "3. Standardiser les variables numériques : pour éviter qu'une valeur ait plus de poids qu'une autre dû à un problème d'unité (ex : 1000g = 1kg)\n",
    "4. Encoder les variables catégorielles : le dataframe contient des variables catégorielles qu'il faut transformer en numérique grâce aux méthode \"Label encoding\" et \"One hot encoding<br>\n"
   ]
  },
  {
   "cell_type": "markdown",
   "id": "f15b0820-01cc-4ab4-bbbc-014f1cc8e6ac",
   "metadata": {},
   "source": [
    "La différence avec la configuration n°1 est le fait que j'ai équilibré la target grâce à SMOTE NC."
   ]
  },
  {
   "cell_type": "markdown",
   "id": "0c4cee53-9f81-4b9b-97cf-10b3151109e8",
   "metadata": {},
   "source": [
    "<table>\n",
    "      <tr>\n",
    "        <th><center>Modèle</center></th>\n",
    "        <th><center>F1-score(1)</center></th>\n",
    "        <th><center>F1-score_pond(1)</center></th>\n",
    "        <th><center>AUC (1)</center></th>\n",
    "      </tr>\n",
    "      <tr>\n",
    "        <td><center><a href=\"projet4.ipynb#C521\">Dummy Classifieur<a></center></td>\n",
    "        <td><center>0</center></td>\n",
    "        <td><center>0</center></td>\n",
    "        <td><center>0.5</center></td>\n",
    "      </tr>\n",
    "        <tr>\n",
    "        <td><center><a href=\"projet4.ipynb#C522\">Logistic Regression<a></center></td>\n",
    "        <td><center>0.7</center></td>\n",
    "        <td><center>0.3</center></td>\n",
    "        <td><center>0.7</center></td>\n",
    "        </tr>\n",
    "       <tr>\n",
    "        <td><center><a href=\"projet4.ipynb#C523\">Linear SVC<a></center></td>\n",
    "        <td><center>0.7</center></td>\n",
    "        <td><center>0.31</center></td>\n",
    "        <td><center>0.7</center></td>\n",
    "       </tr>\n",
    "          <tr>\n",
    "        <td><center><a href=\"projet4.ipynb#C524\">Random Forest<a></center></td>\n",
    "        <td><center>0.93</center></td>\n",
    "        <td><center>0.62</center></td>\n",
    "        <td><center>0.94</center></td>\n",
    "      </tr>\n",
    "</table>"
   ]
  },
  {
   "cell_type": "markdown",
   "id": "af677105-6f3a-451f-b7d2-ff12e003b8de",
   "metadata": {},
   "source": [
    "Ici on observe que F1-score et AUC des classifieurs ont évolués dans le bon sens (excepté le Dummy qui restera toujours sur ces valeurs de F1_score =0 et AUC=0.5). Le classifieur \"Random Forest\" est celui qui présente la meilleure performance avec F1-score=0.93, F1_score_p = 0.62 et AUC = 0.94. Voici la courbe ROC associée : "
   ]
  },
  {
   "cell_type": "markdown",
   "id": "82d89e4a-477c-4d7a-96b2-db51b215aec4",
   "metadata": {},
   "source": [
    "<center><img alt=\"AUC\" src=\"images/modeles/cf2/rf_cf2.png\"></center><br>"
   ]
  },
  {
   "cell_type": "markdown",
   "id": "e11ad43c-54b9-4526-a044-1676bd31e89d",
   "metadata": {
    "tags": []
   },
   "source": [
    "### <a href=\"projet4.ipynb#C513\"> 5.1.3 Configuration 3 <a>"
   ]
  },
  {
   "cell_type": "markdown",
   "id": "50b40cf5-a551-42d4-a1a9-bbdadd22a859",
   "metadata": {},
   "source": [
    "Nous sommes ici dans le cadre de la configuration numéro 1 en ajoutant un équilibrage ClassWeight lors de la création de chaque modèle. Regardons l'impact sur les scores F1 et AUC :"
   ]
  },
  {
   "cell_type": "markdown",
   "id": "759d7555-c50a-4bdc-ad8b-22431f426030",
   "metadata": {},
   "source": [
    "<table>\n",
    "      <tr>\n",
    "        <th><center>Modèle</center></th>\n",
    "        <th><center>F1-score(1)</center></th>\n",
    "        <th><center>F1-score_pond(1)</center></th>\n",
    "        <th><center>AUC (1)</center></th>\n",
    "      </tr>\n",
    "        <tr>\n",
    "        <td><center><a href=\"projet4.ipynb#C522\">Logistic Regression<a></center></td>\n",
    "        <td><center>0.26</center></td>\n",
    "        <td><center>0.16</center></td>\n",
    "        <td><center>0.68</center></td>\n",
    "        </tr>\n",
    "       <tr>\n",
    "        <td><center><a href=\"projet4.ipynb#C523\">Linear SVC<a></center></td>\n",
    "        <td><center>0.26</center></td>\n",
    "        <td><center>0.16</center></td>\n",
    "        <td><center>0.68</center></td>\n",
    "       </tr>\n",
    "          <tr>\n",
    "        <td><center><a href=\"projet4.ipynb#C524\">Random Forest - balanced<a></center></td>\n",
    "        <td><center>0.02</center></td>\n",
    "        <td><center>0.002</center></td>\n",
    "        <td><center>0.5</center></td>\n",
    "      </tr>\n",
    "        <tr>\n",
    "        <td><center><a href=\"projet4.ipynb#C521\">Dummy Classifieur-balanced-subsample<a></center></td>\n",
    "        <td><center>0</center></td>\n",
    "        <td><center>0</center></td>\n",
    "        <td><center>0.5</center></td>\n",
    "      </tr>\n",
    "</table>\n",
    "<br>\n",
    "Remarque : Dummy Classifier n'a pas l'option \"class weight\""
   ]
  },
  {
   "cell_type": "markdown",
   "id": "fef1ce58-b638-44ff-b4c2-fcb6918c3def",
   "metadata": {},
   "source": [
    "## Conlusion :\n",
    "On se rend bien compte que \"class-weight\" est moins efficace sur l'impact F1-score et AUC que l'algorithme SMOTE NC. Pour la suite de notre étude, nous allons donc utiliser la configuration n°2 du jeu de données et plus particulièrement l'algorithme \"random-forest\" qui offre la meilleure performance. "
   ]
  },
  {
   "cell_type": "markdown",
   "id": "da06951c-0997-4835-ac52-94a703d9f73a",
   "metadata": {},
   "source": [
    "<table>\n",
    "      <tr>\n",
    "        <th><center>Modèle</center></th>\n",
    "        <th><center>F1-score(1)</center></th>\n",
    "        <th><center>F1-score_pond(1)</center></th>\n",
    "        <th><center>AUC (1)</center></th>\n",
    "      </tr>\n",
    "          <tr>\n",
    "        <td><center><a href=\"projet4.ipynb#C524\">Random Forest<a></center></td>\n",
    "        <td><center>0.93</center></td>\n",
    "        <td><center>0.62</center></td>\n",
    "        <td><center>0.94</center></td>\n",
    "      </tr>\n",
    "</table>"
   ]
  },
  {
   "cell_type": "markdown",
   "id": "8d875ab3-2e61-4262-b3e0-f870d019dd1a",
   "metadata": {},
   "source": [
    "Afin de confronter cette performance, nous allons introduire les algorithmes LightGBM et XGBoost et comparer les performances entre elles sur les 3 métriques"
   ]
  },
  {
   "cell_type": "markdown",
   "id": "f720ff87-1f3b-483d-a578-776103a58417",
   "metadata": {},
   "source": [
    "## 5.2 Optimisation de la modélisation "
   ]
  },
  {
   "cell_type": "markdown",
   "id": "5b733535-c104-4f48-82d9-7c4f95b42d21",
   "metadata": {
    "tags": []
   },
   "source": [
    "### 5.2.1 Analyse de la performance de Random Forest par le seuil"
   ]
  },
  {
   "cell_type": "markdown",
   "id": "b7620294-2ff2-48f7-b497-f64690568788",
   "metadata": {},
   "source": [
    "Une fois préparé avec la configuration 2, notre dataset comporte 135 colonnes (colonne TARGET non comprise). Ces 135 colonnes ont permis d'obtenir un score très intéressant que ça soit sur le F1-score, F1_score_p et le AUC (voir tableau ci-dessus) avec leur importance pour le modèle : "
   ]
  },
  {
   "cell_type": "markdown",
   "id": "8524384e-c045-48ed-994d-a9ef1c88ca47",
   "metadata": {},
   "source": [
    "<center><img alt=\"importance\" src=\"images/modeles/cf2/rf_cf2_imp.png\"></center><br>"
   ]
  },
  {
   "cell_type": "markdown",
   "id": "bd4d7839-6abb-4186-bd93-6ed146bf3eb4",
   "metadata": {},
   "source": [
    "L'importance relative va mettre en valeur les colonnes les plus utilisés par le modèle et donc les plus impactantes. "
   ]
  },
  {
   "cell_type": "markdown",
   "id": "635321d1-08a5-40c2-a5cb-971b8d9bc383",
   "metadata": {},
   "source": [
    "Essayons maintenant d'optimiser cette performance avec l'utilisation d'un seuil pour ne sélectionner que quelques variables sur les 135 et observer l'impact sur les résultats :  \n",
    "Voici les résultats obtenus :"
   ]
  },
  {
   "cell_type": "markdown",
   "id": "517923e4-3e8d-457e-b497-34589fbae5ec",
   "metadata": {},
   "source": [
    "<table>\n",
    "      <tr>\n",
    "        <th><center>Modèle</center></th>\n",
    "        <th><center>Seuil</center></th>\n",
    "        <th><center>Nb colonnes</center></th>\n",
    "        <th><center>F1-score(1)</center></th>\n",
    "        <th><center>F1-score_p(1)</center></th>\n",
    "        <th><center>AUC (1)</center></th>\n",
    "      </tr>\n",
    "      <tr>\n",
    "        <td><center><a href=\"projet4.ipynb#C524\">Random Forest<a></center></td>\n",
    "        <td><center>0.08</center></td>\n",
    "        <td><center>1</center></td>\n",
    "        <td><center>0.75</center></td>\n",
    "        <td><center>0.23</center></td>\n",
    "        <td><center>0.8</center></td>\n",
    "      </tr>\n",
    "        <tr>\n",
    "        <td><center><a href=\"projet4.ipynb#C524\">Random Forest<a></center></td>\n",
    "        <td><center>0.07</center></td>\n",
    "        <td><center>2</center></td>\n",
    "        <td><center>0.94</center></td>\n",
    "        <td><center>0.61</center></td>\n",
    "        <td><center>0.94</center></td>\n",
    "        </tr>\n",
    "       <tr>\n",
    "       <td><center><a href=\"projet4.ipynb#C524\">Random Forest<a></center></td>\n",
    "        <td><center>0.06</center></td>\n",
    "        <td><center>4</center></td>\n",
    "        <td><center>0.9</center></td>\n",
    "        <td><center>0.56</center></td>\n",
    "        <td><center>0.9</center></td>\n",
    "       </tr>\n",
    "          <tr>\n",
    "       <td><center><a href=\"projet4.ipynb#C524\">Random Forest<a></center></td>\n",
    "        <td><center>0.05</center></td>\n",
    "        <td><center>7</center></td>\n",
    "        <td><center>0.93</center></td>\n",
    "        <td><center>0.62</center></td>\n",
    "        <td><center>0.93</center></td>\n",
    "      </tr>\n",
    "                     <tr>\n",
    "       <td><center><a href=\"projet4.ipynb#C524\">Random Forest<a></center></td>\n",
    "        <td><center>0.04</center></td>\n",
    "        <td><center>8</center></td>\n",
    "        <td><center>0.93</center></td>\n",
    "        <td><center>0.62</center></td>\n",
    "        <td><center>0.94</center></td>\n",
    "      </tr>\n",
    "                     <tr>\n",
    "       <td><center><a href=\"projet4.ipynb#C524\">Random Forest<a></center></td>\n",
    "        <td><center>0.03</center></td>\n",
    "        <td><center>10</center></td>\n",
    "        <td><center>0.94</center></td>\n",
    "        <td><center>0.63</center></td>\n",
    "        <td><center>0.94</center></td>\n",
    "      </tr>\n",
    "                     <tr>\n",
    "       <td><center><a href=\"projet4.ipynb#C524\">Random Forest<a></center></td>\n",
    "        <td><center>0.025</center></td>\n",
    "        <td><center>14</center></td>\n",
    "        <td><center>0.94</center></td>\n",
    "        <td><center>0.64</center></td>\n",
    "        <td><center>0.94</center></td>\n",
    "      </tr>\n",
    "                     <tr>\n",
    "       <td><center><a href=\"projet4.ipynb#C524\">Random Forest<a></center></td>\n",
    "        <td><center>0.023</center></td>\n",
    "        <td><center>15</center></td>\n",
    "        <td><center>0.94</center></td>\n",
    "        <td><center>0.65</center></td>\n",
    "        <td><center>0.95</center></td>\n",
    "      </tr>\n",
    "        <tr>\n",
    "       <td><center><a href=\"projet4.ipynb#C524\">Random Forest<a></center></td>\n",
    "        <td><center>0.022</center></td>\n",
    "        <td><center>17</center></td>\n",
    "        <td><center>0.95</center></td>\n",
    "        <td><center>0.65</center></td>\n",
    "        <td><center>0.95</center></td>\n",
    "      </tr>\n",
    "        <tr>\n",
    "       <td><center><a href=\"projet4.ipynb#C524\">Random Forest<a></center></td>\n",
    "        <td><center>0.021</center></td>\n",
    "        <td><center>18</center></td>\n",
    "        <td><center>0.95</center></td>\n",
    "        <td><center>0.65</center></td>\n",
    "        <td><center>0.95</center></td>\n",
    "      </tr>\n",
    "                     <tr>\n",
    "       <td><center><a href=\"projet4.ipynb#C524\">Random Forest<a></center></td>\n",
    "        <td><center>0.02</center></td>\n",
    "        <td><center>19</center></td>\n",
    "        <td><center>0.95</center></td>\n",
    "        <td><center>0,657</center></td>\n",
    "        <td><center>0.95</center></td>\n",
    "      </tr>\n",
    "                               <tr>\n",
    "       <td><center><a href=\"projet4.ipynb#C524\">Random Forest<a></center></td>\n",
    "        <td><center>0.01</center></td>\n",
    "        <td><center>21</center></td>\n",
    "        <td><center><b><font color=\"green\">0.95</font></b></center></td>\n",
    "        <td><center><b><font color=\"green\">0.661</font></b></center></td>\n",
    "        <td><center><b><font color=\"green\">0.95</font></b></center></td>\n",
    "      </tr>\n",
    "                               <tr>\n",
    "       <td><center><a href=\"projet4.ipynb#C524\">Random Forest<a></center></td>\n",
    "        <td><center>0.005</center></td>\n",
    "        <td><center>29</center></td>\n",
    "        <td><center>0.95</center></td>\n",
    "        <td><center>0.654</center></td>\n",
    "        <td><center>0.95</center></td>\n",
    "      </tr>\n",
    "</table>"
   ]
  },
  {
   "cell_type": "markdown",
   "id": "eb0da939-cb9d-4750-982b-fad9a326da84",
   "metadata": {},
   "source": [
    "Le seuil 0.01 avec 21 colonnes offre la plus haute performance en termes de F1-score, F1-score-p et AUC. Voici la courbe ROC associée : "
   ]
  },
  {
   "cell_type": "markdown",
   "id": "41cbf999-b0b6-4ecc-aca3-eb82e90365d9",
   "metadata": {},
   "source": [
    "<center><img alt=\"roc\" src=\"images/modeles/cf2/seuil_rf/rf_001_21c.png\"></center><br>"
   ]
  },
  {
   "cell_type": "markdown",
   "id": "b65abae1-fbee-46cd-81d9-fc5eccd66e1d",
   "metadata": {},
   "source": [
    "Gardons ce seuil et ces 21 premières colonnes (voir graphe importance plus haut) pour la suite de nos études"
   ]
  },
  {
   "cell_type": "markdown",
   "id": "64909b3d-f140-42e3-a9fb-993c17fbe9b0",
   "metadata": {
    "tags": []
   },
   "source": [
    "### 5.2.2 Analyse de la performance avec ces 21 colonnes sur les autres modèles"
   ]
  },
  {
   "cell_type": "markdown",
   "id": "a24930e8-1afa-424f-8018-58f7c190e784",
   "metadata": {},
   "source": [
    "Je profite de ce chapitre pour intégrer les modèles non linéaires LightGBM et XBOOST afin de pouvoir les confronter aux performances du modèle non linaires Random-Forest (qui était jusqu'à maintenant confronté à des modèles linaires)."
   ]
  },
  {
   "cell_type": "markdown",
   "id": "730dab0f-1467-4c10-95c1-d4bac4d6ead5",
   "metadata": {},
   "source": [
    "<table>\n",
    "      <tr>\n",
    "        <th><center>Modèle</center></th>\n",
    "        <th><center>Nb colonnes</center></th>\n",
    "        <th><center>F1-score(1)</center></th>\n",
    "        <th><center>F1-score_p(1)</center></th>\n",
    "        <th><center>AUC (1)</center></th>\n",
    "      </tr>\n",
    "      <tr>\n",
    "        <td><center><a href=\"projet4.ipynb#C521\">Dummy Classifieur<a></center></td>\n",
    "        <td><center>135</center></td>   \n",
    "        <td><center>0</center></td>\n",
    "        <td><center>0</center></td>\n",
    "        <td><center>0.5</center></td>\n",
    "      </tr>\n",
    "    <tr>\n",
    "        <td><center><a href=\"projet4.ipynb#C521\">Dummy Classifieur<a></center></td>\n",
    "        <td><center>21</center></td>   \n",
    "        <td><center>0</center></td>\n",
    "        <td><center>0</center></td>\n",
    "        <td><center>0.5</center></td>\n",
    "      </tr>\n",
    "</table>"
   ]
  },
  {
   "cell_type": "markdown",
   "id": "80b8535b-9d08-43b8-a51c-ed701c049443",
   "metadata": {},
   "source": [
    "<table>\n",
    "      <tr>\n",
    "        <th><center>Modèle</center></th>\n",
    "        <th><center>Nb colonnes</center></th>\n",
    "        <th><center>F1-score(1)</center></th>\n",
    "        <th><center>F1-score_p(1)</center></th>\n",
    "        <th><center>AUC (1)</center></th>\n",
    "      </tr>\n",
    "        <tr>\n",
    "        <td><center><a href=\"projet4.ipynb#C522\">Logistic Regression<a></center></td>\n",
    "        <td><center>135</center></td>\n",
    "        <td><center>0.7</center></td>\n",
    "        <td><center>0.3</center></td>\n",
    "        <td><center>0.7</center></td>\n",
    "        </tr>\n",
    "               <tr>\n",
    "        <td><center><a href=\"projet4.ipynb#C522\">Logistic Regression<a></center></td>\n",
    "        <td><center>21</center></td>\n",
    "        <td><center><b><font color=\"red\">0.69</font></b></center></td>\n",
    "        <td><center><b><font color=\"red\">0.29</font></b></center></td>\n",
    "        <td><center><b><font color=\"red\">0.69</font></b></center></td>\n",
    "        </tr>\n",
    "</table>"
   ]
  },
  {
   "cell_type": "markdown",
   "id": "0ccce9b0-bf3b-4785-ab31-d9a6eb1b855a",
   "metadata": {},
   "source": [
    "<table>\n",
    "      <tr>\n",
    "        <th><center>Modèle</center></th>\n",
    "        <th><center>Nb colonnes</center></th>\n",
    "        <th><center>F1-score(1)</center></th>\n",
    "        <th><center>F1-score_p(1)</center></th>\n",
    "        <th><center>AUC (1)</center></th>\n",
    "      </tr>\n",
    "       <tr>\n",
    "        <td><center><a href=\"projet4.ipynb#C523\">Linear SVC<a></center></td>\n",
    "        <td><center>135</center></td>\n",
    "        <td><center>0.7</center></td>\n",
    "        <td><center>0.31</center></td>\n",
    "        <td><center>0.7</center></td>\n",
    "       </tr>\n",
    "        <tr>\n",
    "        <td><center><a href=\"projet4.ipynb#C523\">Linear SVC<a></center></td>\n",
    "        <td><center>21</center></td>\n",
    "        <td><center><b><font color=\"red\">0.69</font></b></center></td>\n",
    "        <td><center><b><font color=\"red\">0.29</font></b></center></td>\n",
    "        <td><center><b><font color=\"red\">0.69</font></b></center></td>\n",
    "       </tr>\n",
    "</table>"
   ]
  },
  {
   "cell_type": "markdown",
   "id": "f3d83aed-b77b-4f61-ad2b-398219d51e0b",
   "metadata": {},
   "source": [
    "<table>\n",
    "      <tr>\n",
    "        <th><center>Modèle</center></th>\n",
    "        <th><center>Nb colonnes</center></th>\n",
    "        <th><center>F1-score(1)</center></th>\n",
    "        <th><center>F1-score_p(1)</center></th>\n",
    "        <th><center>AUC (1)</center></th>\n",
    "      </tr>\n",
    "          <tr>\n",
    "        <td><center><a href=\"projet4.ipynb#C524\">Random Forest<a></center></td>\n",
    "        <td><center>135</center></td>\n",
    "        <td><center>0.93</center></td>\n",
    "        <td><center>0.62</center></td>\n",
    "        <td><center>0.94</center></td>\n",
    "      </tr>\n",
    "        <tr>\n",
    "        <td><center><a href=\"projet4.ipynb#C524\">Random Forest<a></center></td>\n",
    "        <td><center>21</center></td>\n",
    "        <td><center><b><font color=\"green\">0.95</font></b></center></td>\n",
    "        <td><center><b><font color=\"green\">0.67</font></b></center></td>\n",
    "        <td><center><b><font color=\"green\">0.95</font></b></center></td>\n",
    "      </tr>\n",
    "</table>"
   ]
  },
  {
   "cell_type": "markdown",
   "id": "4054553b-4ce1-4a59-9f89-7231dc48d451",
   "metadata": {},
   "source": [
    "<table>\n",
    "      <tr>\n",
    "        <th><center>Modèle</center></th>\n",
    "        <th><center>Nb colonnes</center></th>\n",
    "        <th><center>F1-score(1)</center></th>\n",
    "        <th><center>F1-score_p(1)</center></th>\n",
    "        <th><center>AUC (1)</center></th>\n",
    "      </tr>\n",
    "        <tr>\n",
    "        <td><center><a href=\"projet4.ipynb#C525\">LightGBM<a></center></td>\n",
    "        <td><center>135</center></td>\n",
    "        <td><center>0.95</center></td>\n",
    "        <td><center>0.67</center></td>\n",
    "        <td><center>0.95</center></td>\n",
    "      </tr>\n",
    "        <tr>\n",
    "        <td><center><a href=\"projet4.ipynb#C525\">LightGBM<a></center></td>\n",
    "        <td><center>21</center></td>\n",
    "        <td><center>0.95</center></td>\n",
    "        <td><center>0.67</center></td>\n",
    "        <td><center>0.95</center></td>\n",
    "      </tr>\n",
    "</table>"
   ]
  },
  {
   "cell_type": "markdown",
   "id": "8d58e3ae-d6b6-458f-81c1-f7be55740b8e",
   "metadata": {},
   "source": [
    "<table>\n",
    "      <tr>\n",
    "        <th><center>Modèle</center></th>\n",
    "        <th><center>Nb colonnes</center></th>\n",
    "        <th><center>F1-score(1)</center></th>\n",
    "        <th><center>F1-score_p(1)</center></th>\n",
    "        <th><center>AUC (1)</center></th>\n",
    "      </tr>\n",
    "        <tr>\n",
    "        <td><center><a href=\"projet4.ipynb#C525\">XGBOOST<a></center></td>\n",
    "        <td><center>135</center></td>\n",
    "        <td><center>0.95</center></td>\n",
    "        <td><center>0.67</center></td>\n",
    "        <td><center>0.95</center></td>\n",
    "      </tr>\n",
    "        <tr>\n",
    "        <td><center><a href=\"projet4.ipynb#C525\">XGBOOST<a></center></td>\n",
    "        <td><center>21</center></td>\n",
    "        <td><center>0.95</center></td>\n",
    "        <td><center>0.67</center></td>\n",
    "        <td><center>0.95</center></td>\n",
    "      </tr>\n",
    "</table>"
   ]
  },
  {
   "cell_type": "markdown",
   "id": "7afcf86a-b5be-4535-b8a2-c00054db0e9e",
   "metadata": {},
   "source": [
    "L'impact de la réduction du dataset est visible de manière négative sur logistic Regression et Linear SVC qui sont des modèles linéaires. En revanche une amélioration est visible sur Random Forest (amélioration vue précédemment). La Stabilité est visible sur Dummy Classifier (qui ne peut pas faire mieux en termes de score) , lightGBM et XGBOOT.<br>\n",
    "Les modèles les plus performants sont Random Forest, lightGBM et XGBOOST. Gardons ces 3 modèles pour la suite de notre étude."
   ]
  },
  {
   "cell_type": "markdown",
   "id": "15d9d1f8-41ea-4530-95a3-9946773b24a5",
   "metadata": {
    "tags": []
   },
   "source": [
    "### 5.2.3 Analyse de l'importance des colonnes sur les modèles non-linaires Random Forest, lightGBM et XGBoost"
   ]
  },
  {
   "cell_type": "markdown",
   "id": "afe01207-ed5d-4efb-8215-c020b21bcb81",
   "metadata": {},
   "source": [
    "En donnant la dataframe complète (transformée avec la configuration 2), aux 3 modèles, on se rend compte que la plupart des variables sélectionnées sont les mêmes sauf 4 (en vert) : "
   ]
  },
  {
   "cell_type": "markdown",
   "id": "2be959cc-b2fd-4088-92df-0148a8785371",
   "metadata": {},
   "source": [
    "<center><img alt=\"importance\" src=\"images/modeles/cf2/importances/imp_comp_136c.png\"></center><br>"
   ]
  },
  {
   "cell_type": "markdown",
   "id": "979efb2f-ca71-491b-b375-ec17b5e480e3",
   "metadata": {},
   "source": [
    "En donnant les 21 colonnes sélectionnées par seuil aux 3 modèles, on se rend compte que les 3 modèles donnent un ordre d'importance différent à chacune des colonnes mais surtout, si l'on regarde le schéma précèdent, un même modèle donne un ordre d'importance différent à chacune des 21 colonnes. "
   ]
  },
  {
   "cell_type": "markdown",
   "id": "0af21753-efbd-4a9b-81d1-c0c2e6e746f5",
   "metadata": {},
   "source": [
    "<center><img alt=\"importance\" src=\"images/modeles/cf2/importances/imp_comp_21c.png\"></center><br>"
   ]
  },
  {
   "cell_type": "markdown",
   "id": "eb741910-b63b-4301-9a74-5b4e2898737f",
   "metadata": {},
   "source": [
    "On s'aperçoit également que certaines colonnes ne vont pas être au même rang à chaque fois que l'on relance le code. "
   ]
  },
  {
   "cell_type": "markdown",
   "id": "53fbc225-8fc2-4fc7-8f18-0f9f061836c6",
   "metadata": {},
   "source": [
    "### 5.2.4 Interprétation locale des features "
   ]
  },
  {
   "cell_type": "markdown",
   "id": "2e6d4817-0b49-4b0a-bdfc-c83b1442ddc1",
   "metadata": {},
   "source": [
    "Les graphes précédents ont montré l'importance des variables de manières globale sur l'influence qu'elles ont sur les modèles. Maintenant prenons une mesure locale avec la méthode <a href=\"projet4.ipynb#C52432\">LIME<a> (Local Interpretable Model-Agnostic Explanations). On va pouvoir ainsi expliqué à chaque client qu'elles sont les raisons précises du pourquoi son prêt a ou non été accepté. "
   ]
  },
  {
   "cell_type": "markdown",
   "id": "0cd12f5a-1588-4d11-9885-a56d5cf2ca2c",
   "metadata": {},
   "source": [
    "Le cas suivant est un individu pour qui le prêt a été accepté. La prédiction du modèle est certaine à 100% et les critèrtes ayants joués en sa faveur sont en bleus ci-dessous :"
   ]
  },
  {
   "cell_type": "markdown",
   "id": "ae2adc49-eeb5-468e-93a2-01a25e65de8c",
   "metadata": {},
   "source": [
    "<center><img alt=\"0\" src=\"images/modeles/cf2/importances/LIME/cas0.png\"></center><br>"
   ]
  },
  {
   "cell_type": "markdown",
   "id": "9100d8b9-1b25-40ce-8bfe-967f7521105d",
   "metadata": {},
   "source": [
    "Dans le cas contraire, le prêt a été refusé au prochain individu dû aux critères disponibles en orange ci-dessous. Encore une fois la prédiction est certaine à 100%."
   ]
  },
  {
   "cell_type": "markdown",
   "id": "7dfd00e1-986a-4ac7-ba9b-b1e2397c4eed",
   "metadata": {},
   "source": [
    "<center><img alt=\"1\" src=\"images/modeles/cf2/importances/LIME/cas1.png\"></center><br>"
   ]
  },
  {
   "cell_type": "markdown",
   "id": "f69bd5ef-029c-45c5-851c-d9d3a9e68659",
   "metadata": {},
   "source": [
    "Conclusion : grâce à LIME, chaque individu pourra connaitre la ou les raisons de refus ou d'acceptation de son prêt vis à vis du modèle utilisé."
   ]
  },
  {
   "cell_type": "markdown",
   "id": "50dd58a4-f9cf-4322-949d-bd13067f4251",
   "metadata": {
    "tags": []
   },
   "source": [
    "## 5.3 Features engineering"
   ]
  },
  {
   "cell_type": "markdown",
   "id": "2d8984d0-7228-4c90-94bf-e21b1450193b",
   "metadata": {},
   "source": [
    "#### <a href=\"projet4.ipynb#C531\"> 5.3.1 ACP <a>"
   ]
  },
  {
   "cell_type": "markdown",
   "id": "7ffc33c6-3118-49d6-9b9f-aaaa3f9a84e5",
   "metadata": {},
   "source": [
    "On remarque que AMT_ANNUITY, AMT_GOODS_PRICE, AMT_CREDIT sont très corrélées : "
   ]
  },
  {
   "cell_type": "markdown",
   "id": "65fa085f-4338-4a14-ba56-4e46243a3307",
   "metadata": {},
   "source": [
    "<center><img alt=\"corr\" src=\"images/modeles/cf2/creation_variables/ACP/amt_annuity_credit_goods_price/corr.png\"></center><br>"
   ]
  },
  {
   "cell_type": "markdown",
   "id": "cc43cf37-4f8c-4ea6-866c-f44463530280",
   "metadata": {},
   "source": [
    "En affichant le graphe d'éboulis des valeurs propres, on observe que l'axe d'inertie F1 représente environ 90% du jeu de données sur ces 3 colonnes :"
   ]
  },
  {
   "cell_type": "markdown",
   "id": "6f4bc58e-f0f0-4df2-a1f2-492c7b636bd7",
   "metadata": {},
   "source": [
    "<center><img alt=\"corr\" src=\"images/modeles/cf2/creation_variables/ACP/amt_annuity_credit_goods_price/eboulie.png\"></center><br>"
   ]
  },
  {
   "cell_type": "markdown",
   "id": "b7ce98ea-ed91-4256-b582-2858a721613a",
   "metadata": {},
   "source": [
    "On va dans un premier temps ajouter cette colonne au dataset complet puis aux 21. Voici l'évolution de la performance avec ce nouveau dataset : "
   ]
  },
  {
   "cell_type": "markdown",
   "id": "961f5662-8bcb-4dd2-998f-568ee316556b",
   "metadata": {},
   "source": [
    "<table>\n",
    "      <tr>\n",
    "        <th><center>Modèle</center></th>\n",
    "        <th><center>Nb colonnes</center></th>\n",
    "        <th><center>F1-score(1)</center></th>\n",
    "        <th><center>F1-score_p(1)</center></th>\n",
    "        <th><center>AUC (1)</center></th>\n",
    "      </tr>\n",
    "        <td><center><a href=\"projet4.ipynb#C524\">Random Forest<a></center></td>\n",
    "        <td><center>135</center></td>\n",
    "        <td><center>0.93</center></td>\n",
    "        <td><center>0.62</center></td>\n",
    "        <td><center>0.94</center></td>\n",
    "      </tr>\n",
    "        <tr>\n",
    "        <td><center><a href=\"projet4.ipynb#C524\">Random Forest<a></center></td>\n",
    "        <td><center>ACP : 136 -F1 inclus</center></td>\n",
    "        <td><center><b><font color=\"green\">0.94</font></b></center></td>\n",
    "        <td><center><b><font color=\"green\">0.64</font></b></center></td>\n",
    "        <td><center>0.94</center></td>\n",
    "      </tr>\n",
    "        <tr>\n",
    "        <td><center><a href=\"projet4.ipynb#C525\">LightGBM<a></center></td>\n",
    "        <td><center>135</center></td>\n",
    "        <td><center>0.95</center></td>\n",
    "        <td><center>0.67</center></td>\n",
    "        <td><center>0.95</center></td>\n",
    "      </tr>\n",
    "        <tr>\n",
    "        <td><center><a href=\"projet4.ipynb#C525\">LightGBM<a></center></td>\n",
    "        <td><center>ACP : 136 -F1 inclus</center></td>\n",
    "        <td><center>0.95</center></td>\n",
    "        <td><center>0.67</center></td>\n",
    "        <td><center>0.95</center></td>\n",
    "      </tr>\n",
    "      <tr>\n",
    "        <td><center><a href=\"projet4.ipynb#C525\">XGBOOST<a></center></td>\n",
    "        <td><center>135</center></td>\n",
    "        <td><center>0.95</center></td>\n",
    "        <td><center>0.67</center></td>\n",
    "        <td><center>0.95</center></td>\n",
    "      </tr>\n",
    "        <tr>\n",
    "        <td><center><a href=\"projet4.ipynb#C525\">XGBOOST<a></center></td>\n",
    "        <td><center>ACP : 136 -F1 inclus</center></td>\n",
    "        <td><center>0.95</center></td>\n",
    "        <td><center>0.67</center></td>\n",
    "        <td><center>0.95</center></td>\n",
    "      </tr>\n",
    "</table>\n",
    "            \n",
    "            \n",
    "<table>\n",
    "      <tr>\n",
    "        <th><center>Modèle</center></th>\n",
    "        <th><center>Nb colonnes</center></th>\n",
    "        <th><center>F1-score(1)</center></th>\n",
    "        <th><center>F1-score_p(1)</center></th>\n",
    "        <th><center>AUC (1)</center></th>\n",
    "      </tr>\n",
    "        <td><center><a href=\"projet4.ipynb#C524\">Random Forest<a></center></td>\n",
    "        <td><center>21</center></td>\n",
    "        <td><center>0.95</center></td>\n",
    "        <td><center>0.67</center></td>\n",
    "        <td><center>0.95</center></td>\n",
    "      </tr>\n",
    "        <tr>\n",
    "        <td><center><a href=\"projet4.ipynb#C524\">Random Forest<a></center></td>\n",
    "        <td><center>ACP : 23 -F1 inclus</center></td>\n",
    "        <td><center>0.95</center></td>\n",
    "        <td><center>0.67</center></td>\n",
    "        <td><center><b><font color=\"green\">0.96</font></b></center></td>\n",
    "      </tr>\n",
    "        <tr>\n",
    "        <td><center><a href=\"projet4.ipynb#C525\">LightGBM<a></center></td>\n",
    "        <td><center>21</center></td>\n",
    "        <td><center>0.95</center></td>\n",
    "        <td><center>0.67</center></td>\n",
    "        <td><center>0.95</center></td>\n",
    "      </tr>\n",
    "        <tr>\n",
    "        <td><center><a href=\"projet4.ipynb#C525\">LightGBM<a></center></td>\n",
    "        <td><center>ACP : 23 -F1 inclus</center></td>\n",
    "        <td><center>0.95</center></td>\n",
    "        <td><center>0.67</center></td>\n",
    "        <td><center>0.95</center></td>\n",
    "      </tr>\n",
    "      <tr>\n",
    "        <td><center><a href=\"projet4.ipynb#C525\">XGBOOST<a></center></td>\n",
    "        <td><center>21</center></td>\n",
    "        <td><center>0.95</center></td>\n",
    "        <td><center>0.67</center></td>\n",
    "        <td><center>0.95</center></td>\n",
    "      </tr>\n",
    "        <tr>\n",
    "        <td><center><a href=\"projet4.ipynb#C525\">XGBOOST<a></center></td>\n",
    "        <td><center>ACP : 23 -F1 inclus</center></td>\n",
    "        <td><center>0.95</center></td>\n",
    "        <td><center>0.67</center></td>\n",
    "        <td><center>0.95</center></td>\n",
    "      </tr>\n",
    "</table>"
   ]
  },
  {
   "cell_type": "markdown",
   "id": "79112ed8-e03d-41b2-84ff-b132d4edec6b",
   "metadata": {},
   "source": [
    "On va maintenant faire la même démarche en supprimant les colonnes (-3 colonnes) qui ont permis de construire F1. Voici l'évolution de la performance avec ce nouveau dataset : "
   ]
  },
  {
   "cell_type": "markdown",
   "id": "66be46c1-ad7b-4a2d-b306-37eaf0eb19e1",
   "metadata": {},
   "source": [
    "<table>\n",
    "      <tr>\n",
    "        <th><center>Modèle</center></th>\n",
    "        <th><center>Nb colonnes</center></th>\n",
    "        <th><center>F1-score(1)</center></th>\n",
    "        <th><center>F1-score_p(1)</center></th>\n",
    "        <th><center>AUC (1)</center></th>\n",
    "      </tr>\n",
    "        <td><center><a href=\"projet4.ipynb#C524\">Random Forest<a></center></td>\n",
    "        <td><center>135</center></td>\n",
    "        <td><center>0.93</center></td>\n",
    "        <td><center>0.62</center></td>\n",
    "        <td><center>0.94</center></td>\n",
    "      </tr>\n",
    "        <tr>\n",
    "        <td><center><a href=\"projet4.ipynb#C524\">Random Forest<a></center></td>\n",
    "        <td><center>ACP : 133-F1 inclus</center></td>\n",
    "        <td><center>0.93</center></td>\n",
    "        <td><center>0.62</center></td>\n",
    "        <td><center>0.94</center></td>\n",
    "      </tr>\n",
    "        <tr>\n",
    "        <td><center><a href=\"projet4.ipynb#C525\">LightGBM<a></center></td>\n",
    "        <td><center>135</center></td>\n",
    "        <td><center>0.95</center></td>\n",
    "        <td><center>0.67</center></td>\n",
    "        <td><center>0.95</center></td>\n",
    "      </tr>\n",
    "        <tr>\n",
    "        <td><center><a href=\"projet4.ipynb#C525\">LightGBM<a></center></td>\n",
    "        <td><center>ACP : 133-F1 inclus</center></td>\n",
    "        <td><center>0.95</center></td>\n",
    "        <td><center>0.67</center></td>\n",
    "        <td><center>0.95</center></td>\n",
    "      </tr>\n",
    "      <tr>\n",
    "        <td><center><a href=\"projet4.ipynb#C525\">XGBOOST<a></center></td>\n",
    "        <td><center>135</center></td>\n",
    "        <td><center>0.95</center></td>\n",
    "        <td><center>0.67</center></td>\n",
    "        <td><center>0.95</center></td>\n",
    "      </tr>\n",
    "        <tr>\n",
    "        <td><center><a href=\"projet4.ipynb#C525\">XGBOOST<a></center></td>\n",
    "        <td><center>ACP : 133-F1 inclus</center></td>\n",
    "        <td><center>0.95</center></td>\n",
    "        <td><center>0.67</center></td>\n",
    "        <td><center>0.95</center></td>\n",
    "      </tr>\n",
    "</table>\n",
    "            \n",
    "            \n",
    "<table>\n",
    "      <tr>\n",
    "        <th><center>Modèle</center></th>\n",
    "        <th><center>Nb colonnes</center></th>\n",
    "        <th><center>F1-score(1)</center></th>\n",
    "        <th><center>F1-score_p(1)</center></th>\n",
    "        <th><center>AUC (1)</center></th>\n",
    "      </tr>\n",
    "        <td><center><a href=\"projet4.ipynb#C524\">Random Forest<a></center></td>\n",
    "        <td><center>21</center></td>\n",
    "        <td><center>0.95</center></td>\n",
    "        <td><center>0.67</center></td>\n",
    "        <td><center>0.95</center></td>\n",
    "      </tr>\n",
    "        <tr>\n",
    "        <td><center><a href=\"projet4.ipynb#C524\">Random Forest<a></center></td>\n",
    "        <td><center>ACP : 19-F1 inclus</center></td>\n",
    "        <td><center>0.95</center></td>\n",
    "        <td><center>0.67</center></td>\n",
    "        <td><center>0.95</center></td>\n",
    "      </tr>\n",
    "        <tr>\n",
    "        <td><center><a href=\"projet4.ipynb#C525\">LightGBM<a></center></td>\n",
    "        <td><center>21</center></td>\n",
    "        <td><center>0.95</center></td>\n",
    "        <td><center>0.67</center></td>\n",
    "        <td><center>0.95</center></td>\n",
    "      </tr>\n",
    "        <tr>\n",
    "        <td><center><a href=\"projet4.ipynb#C525\">LightGBM<a></center></td>\n",
    "        <td><center>ACP : 19-F1 inclus</center></td>\n",
    "        <td><center>0.95</center></td>\n",
    "        <td><center>0.67</center></td>\n",
    "        <td><center>0.95</center></td>\n",
    "      </tr>\n",
    "      <tr>\n",
    "        <td><center><a href=\"projet4.ipynb#C525\">XGBOOST<a></center></td>\n",
    "        <td><center>21</center></td>\n",
    "        <td><center>0.95</center></td>\n",
    "        <td><center>0.67</center></td>\n",
    "        <td><center>0.95</center></td>\n",
    "      </tr>\n",
    "        <tr>\n",
    "        <td><center><a href=\"projet4.ipynb#C525\">XGBOOST<a></center></td>\n",
    "        <td><center>ACP : 19-F1 inclus</center></td>\n",
    "        <td><center>0.95</center></td>\n",
    "        <td><center>0.67</center></td>\n",
    "        <td><center>0.95</center></td>\n",
    "      </tr>\n",
    "</table>"
   ]
  },
  {
   "cell_type": "markdown",
   "id": "75472c5b-c6d5-409b-9383-5c1e9728e053",
   "metadata": {},
   "source": [
    "Conclusion : amélioration de la performance grâce à l’ACP (réduction du nombre de variables). Performance stabilisée pour les modèles XGBoost et LightGBM. Augmentation de la performance pour le modèle Random Forest."
   ]
  },
  {
   "cell_type": "markdown",
   "id": "5356c2ec-fa36-47c3-90b6-27f363fee72c",
   "metadata": {},
   "source": [
    "#### <a href=\"projet4.ipynb#C532\"> 5.3.2 Polynomiale Features <a>"
   ]
  },
  {
   "cell_type": "markdown",
   "id": "4e5d5970-054c-4623-818a-b605ada62645",
   "metadata": {},
   "source": [
    "Lors de l'analyse multivariée, nous avons vu une relation intéressante entre les EXT_SOURCE_X et DAYS_BIRTH :\n",
    "<center><img alt=\"corr\" src=\"images/modeles/cf2/creation_variables/poly_features/heatmap.png\"></center><br>"
   ]
  },
  {
   "cell_type": "markdown",
   "id": "d0f9187c-acd7-4873-b408-10a44d8bafe3",
   "metadata": {},
   "source": [
    "On a vu que ces variables ne sont pas extrêmement corrélées à la TARGET mais peut être qu'une combinaison de ces features par une ou des composantes d'un polynôme de degré X pourrait nous faire dire le contraire. "
   ]
  },
  {
   "cell_type": "markdown",
   "id": "995cb2ed-fef9-42bc-ac30-75a921e3f4be",
   "metadata": {},
   "source": [
    "Un polynôme de degré 3 nous apporte des composantes ayant les corrélations (avec la TARGET) suivantes (les plus élevées) : \n",
    "<center><img alt=\"corr\" src=\"images/modeles/cf2/creation_variables/poly_features/corr_res.png\"></center><br>\n",
    "On remarque donc que les valeurs de corrélation sont un peu plus élevées. "
   ]
  },
  {
   "cell_type": "markdown",
   "id": "c5e79e40-0f1d-4c43-8ed8-939076b6de54",
   "metadata": {},
   "source": [
    "Observons maintenant l'évolution de la performance en ajoutant les composantes du polynôme de degré 3 et en gardant les colonnes d'origines : "
   ]
  },
  {
   "cell_type": "markdown",
   "id": "e88dee29-81e3-4be7-b1b6-8c1819afc723",
   "metadata": {},
   "source": [
    "<table>\n",
    "      <tr>\n",
    "        <th><center>Modèle</center></th>\n",
    "        <th><center>Nb colonnes</center></th>\n",
    "        <th><center>F1-score(1)</center></th>\n",
    "        <th><center>F1-score_p(1)</center></th>\n",
    "        <th><center>AUC (1)</center></th>\n",
    "      </tr>\n",
    "        <td><center><a href=\"projet4.ipynb#C524\">Random Forest<a></center></td>\n",
    "        <td><center>135</center></td>\n",
    "        <td><center>0.93</center></td>\n",
    "        <td><center>0.62</center></td>\n",
    "        <td><center>0.94</center></td>\n",
    "      </tr>\n",
    "        <tr>\n",
    "        <td><center><a href=\"projet4.ipynb#C524\">Random Forest<a></center></td>\n",
    "        <td><center>PF : 170</center></td>\n",
    "        <td><center><b><font color=\"red\">0.92</font></b></center></td>\n",
    "        <td><center><b><font color=\"red\">0.6</font></b></center></td>\n",
    "        <td><center><b><font color=\"red\">0.92</font></b></center></td>\n",
    "      </tr>\n",
    "        <tr>\n",
    "        <td><center><a href=\"projet4.ipynb#C525\">LightGBM<a></center></td>\n",
    "        <td><center>135</center></td>\n",
    "        <td><center>0.95</center></td>\n",
    "        <td><center>0.67</center></td>\n",
    "        <td><center>0.95</center></td>\n",
    "      </tr>\n",
    "        <tr>\n",
    "        <td><center><a href=\"projet4.ipynb#C525\">LightGBM<a></center></td>\n",
    "        <td><center>PF : 170</center></td>\n",
    "        <td><center>0.95</center></td>\n",
    "        <td><center>0.67</center></td>\n",
    "        <td><center>0.95</center></td>\n",
    "      </tr>\n",
    "      <tr>\n",
    "        <td><center><a href=\"projet4.ipynb#C525\">XGBOOST<a></center></td>\n",
    "        <td><center>135</center></td>\n",
    "        <td><center>0.95</center></td>\n",
    "        <td><center>0.67</center></td>\n",
    "        <td><center>0.95</center></td>\n",
    "      </tr>\n",
    "        <tr>\n",
    "        <td><center><a href=\"projet4.ipynb#C525\">XGBOOST<a></center></td>\n",
    "        <td><center>PF : 170</center></td>\n",
    "        <td><center>0.95</center></td>\n",
    "        <td><center>0.67</center></td>\n",
    "        <td><center>0.95</center></td>\n",
    "      </tr>\n",
    "</table>\n",
    "            \n",
    "            \n",
    "<table>\n",
    "      <tr>\n",
    "        <th><center>Modèle</center></th>\n",
    "        <th><center>Nb colonnes</center></th>\n",
    "        <th><center>F1-score(1)</center></th>\n",
    "        <th><center>F1-score_p(1)</center></th>\n",
    "        <th><center>AUC (1)</center></th>\n",
    "      </tr>\n",
    "        <td><center><a href=\"projet4.ipynb#C524\">Random Forest<a></center></td>\n",
    "        <td><center>21</center></td>\n",
    "        <td><center>0.95</center></td>\n",
    "        <td><center>0.67</center></td>\n",
    "        <td><center>0.95</center></td>\n",
    "      </tr>\n",
    "        <tr>\n",
    "        <td><center><a href=\"projet4.ipynb#C524\">Random Forest<a></center></td>\n",
    "        <td><center>PF : 37</center></td>\n",
    "        <td><center>0.95</center></td>\n",
    "        <td><center><b><font color=\"red\">0.66</font></b></center></td>\n",
    "        <td><center>0.95</center></td>\n",
    "      </tr>\n",
    "        <tr>\n",
    "        <td><center><a href=\"projet4.ipynb#C525\">LightGBM<a></center></td>\n",
    "        <td><center>21</center></td>\n",
    "        <td><center>0.95</center></td>\n",
    "        <td><center>0.67</center></td>\n",
    "        <td><center>0.95</center></td>\n",
    "      </tr>\n",
    "        <tr>\n",
    "        <td><center><a href=\"projet4.ipynb#C525\">LightGBM<a></center></td>\n",
    "        <td><center>PF : 37</center></td>\n",
    "        <td><center>0.95</center></td>\n",
    "        <td><center><b><font color=\"red\">0.66</font></b></center></td>\n",
    "        <td><center>0.95</center></td>\n",
    "      </tr>\n",
    "      <tr>\n",
    "        <td><center><a href=\"projet4.ipynb#C525\">XGBOOST<a></center></td>\n",
    "        <td><center>21</center></td>\n",
    "        <td><center>0.95</center></td>\n",
    "        <td><center>0.67</center></td>\n",
    "        <td><center>0.95</center></td>\n",
    "      </tr>\n",
    "        <tr>\n",
    "        <td><center><a href=\"projet4.ipynb#C525\">XGBOOST<a></center></td>\n",
    "        <td><center>PF : 37</center></td>\n",
    "        <td><center>0.95</center></td>\n",
    "        <td><center>0.67</center></td>\n",
    "        <td><center>0.95</center></td>\n",
    "      </tr>\n",
    "</table>"
   ]
  },
  {
   "cell_type": "markdown",
   "id": "39f10ae6-e831-44f6-880c-ea4579bfbe90",
   "metadata": {},
   "source": [
    "Observons maintenant l'évolution de la performance en remplaçant les colonnes d'origines par les composantes du polynôme de degré 3 : "
   ]
  },
  {
   "cell_type": "markdown",
   "id": "2d068c23-09a1-49e6-8aaf-8e7b18418b39",
   "metadata": {},
   "source": [
    "<table>\n",
    "      <tr>\n",
    "        <th><center>Modèle</center></th>\n",
    "        <th><center>Nb colonnes</center></th>\n",
    "        <th><center>F1-score(1)</center></th>\n",
    "        <th><center>F1-score_p(1)</center></th>\n",
    "        <th><center>AUC (1)</center></th>\n",
    "      </tr>\n",
    "        <td><center><a href=\"projet4.ipynb#C524\">Random Forest<a></center></td>\n",
    "        <td><center>135</center></td>\n",
    "        <td><center>0.93</center></td>\n",
    "        <td><center>0.62</center></td>\n",
    "        <td><center>0.94</center></td>\n",
    "      </tr>\n",
    "        <tr>\n",
    "        <td><center><a href=\"projet4.ipynb#C524\">Random Forest<a></center></td>\n",
    "        <td><center>PF : 166</center></td>\n",
    "        <td><center><b><font color=\"red\">0.92</font></b></center></td>\n",
    "        <td><center><b><font color=\"red\">0.59</font></b></center></td>\n",
    "        <td><center><b><font color=\"red\">0.92</font></b></center></td>\n",
    "      </tr>\n",
    "        <tr>\n",
    "        <td><center><a href=\"projet4.ipynb#C525\">LightGBM<a></center></td>\n",
    "        <td><center>135</center></td>\n",
    "        <td><center>0.95</center></td>\n",
    "        <td><center>0.67</center></td>\n",
    "        <td><center>0.95</center></td>\n",
    "      </tr>\n",
    "        <tr>\n",
    "        <td><center><a href=\"projet4.ipynb#C525\">LightGBM<a></center></td>\n",
    "        <td><center>PF : 166</center></td>\n",
    "        <td><center>0.95</center></td>\n",
    "        <td><center>0.67</center></td>\n",
    "        <td><center>0.95</center></td>\n",
    "      </tr>\n",
    "      <tr>\n",
    "        <td><center><a href=\"projet4.ipynb#C525\">XGBOOST<a></center></td>\n",
    "        <td><center>135</center></td>\n",
    "        <td><center>0.95</center></td>\n",
    "        <td><center>0.67</center></td>\n",
    "        <td><center>0.95</center></td>\n",
    "      </tr>\n",
    "        <tr>\n",
    "        <td><center><a href=\"projet4.ipynb#C525\">XGBOOST<a></center></td>\n",
    "        <td><center>PF : 166</center></td>\n",
    "        <td><center>0.95</center></td>\n",
    "        <td><center>0.67</center></td>\n",
    "        <td><center>0.95</center></td>\n",
    "      </tr>\n",
    "</table>\n",
    "            \n",
    "            \n",
    "<table>\n",
    "      <tr>\n",
    "        <th><center>Modèle</center></th>\n",
    "        <th><center>Nb colonnes</center></th>\n",
    "        <th><center>F1-score(1)</center></th>\n",
    "        <th><center>F1-score_p(1)</center></th>\n",
    "        <th><center>AUC (1)</center></th>\n",
    "      </tr>\n",
    "        <td><center><a href=\"projet4.ipynb#C524\">Random Forest<a></center></td>\n",
    "        <td><center>21</center></td>\n",
    "        <td><center>0.95</center></td>\n",
    "        <td><center>0.67</center></td>\n",
    "        <td><center>0.95</center></td>\n",
    "      </tr>\n",
    "        <tr>\n",
    "        <td><center><a href=\"projet4.ipynb#C524\">Random Forest<a></center></td>\n",
    "        <td><center>PF : 43</center></td>\n",
    "        <td><center>0.95</center></td>\n",
    "        <td><center><b><font color=\"red\">0.66</font></b></center></td>\n",
    "        <td><center>0.95</center></td>\n",
    "      </tr>\n",
    "        <tr>\n",
    "        <td><center><a href=\"projet4.ipynb#C525\">LightGBM<a></center></td>\n",
    "        <td><center>21</center></td>\n",
    "        <td><center>0.95</center></td>\n",
    "        <td><center>0.67</center></td>\n",
    "        <td><center>0.95</center></td>\n",
    "      </tr>\n",
    "        <tr>\n",
    "        <td><center><a href=\"projet4.ipynb#C525\">LightGBM<a></center></td>\n",
    "        <td><center>PF : 43</center></td>\n",
    "        <td><center>0.95</center></td>\n",
    "        <td><center>0.67</center></td>\n",
    "        <td><center>0.95</center></td>\n",
    "      </tr>\n",
    "      <tr>\n",
    "        <td><center><a href=\"projet4.ipynb#C525\">XGBOOST<a></center></td>\n",
    "        <td><center>21</center></td>\n",
    "        <td><center>0.95</center></td>\n",
    "        <td><center>0.67</center></td>\n",
    "        <td><center>0.95</center></td>\n",
    "      </tr>\n",
    "        <tr>\n",
    "        <td><center><a href=\"projet4.ipynb#C525\">XGBOOST<a></center></td>\n",
    "        <td><center>PF : 43</center></td>\n",
    "        <td><center>0.95</center></td>\n",
    "        <td><center>0.67</center></td>\n",
    "        <td><center>0.95</center></td>\n",
    "      </tr>\n",
    "</table>"
   ]
  },
  {
   "cell_type": "markdown",
   "id": "781745f5-e81c-42ff-807c-33c4e81c138e",
   "metadata": {},
   "source": [
    "Conclusion : stabilisation de la performance grâce à la méthode « Polynomial features » sur XGBoost et lightGBM (en enlevant les colonnes d’origines). En revanche Random Forest diminue en performance."
   ]
  },
  {
   "cell_type": "markdown",
   "id": "5f45c97e-e4e6-4100-b6f4-c8fc0356f4f4",
   "metadata": {},
   "source": [
    "#### <a href=\"projet4.ipynb#C533\"> 5.3.3 Qualité clientèle (K-means) <a>"
   ]
  },
  {
   "cell_type": "markdown",
   "id": "f265a029-261c-4acb-8993-6022420d80bf",
   "metadata": {},
   "source": [
    "Objectif : grâce au nouveau dataframe \"df_previous_application\", qui donne l'historique des précédents prêts effectués dans la banque, nous allons réaliser un clustering (avec K-means) à 5 niveaux représentant la \"qualité clientèle\". Cette nouvelle colonne sera ensuite intégrée au dataframe initial.\n",
    "<center><img alt=\"note\" src=\"images/modeles/cf2/creation_variables/kmeans/note.png\"></center><br>\n"
   ]
  },
  {
   "cell_type": "markdown",
   "id": "ceb53925-1348-4739-99e4-d4828d9f62b5",
   "metadata": {},
   "source": [
    "<center><img alt=\"process\" src=\"images/modeles/cf2/creation_variables/kmeans/process.png\"></center><br>"
   ]
  },
  {
   "cell_type": "markdown",
   "id": "2600eb64-c394-48d6-9599-a73fb1bb5bf7",
   "metadata": {},
   "source": [
    "Voici les résultats de performance suite à l'ajout de la colonne dans le dataframe principal : "
   ]
  },
  {
   "cell_type": "markdown",
   "id": "eb47edbe-dd4e-41df-b7e9-fd52e9749e1d",
   "metadata": {},
   "source": [
    "<table>\n",
    "      <tr>\n",
    "        <th><center>Modèle</center></th>\n",
    "        <th><center>Nb colonnes</center></th>\n",
    "        <th><center>F1-score(1)</center></th>\n",
    "        <th><center>F1-score_p(1)</center></th>\n",
    "        <th><center>AUC (1)</center></th>\n",
    "      </tr>\n",
    "        <td><center><a href=\"projet4.ipynb#C524\">Random Forest<a></center></td>\n",
    "        <td><center>135</center></td>\n",
    "        <td><center>0.93</center></td>\n",
    "        <td><center>0.62</center></td>\n",
    "        <td><center>0.94</center></td>\n",
    "      </tr>\n",
    "        <tr>\n",
    "        <td><center><a href=\"projet4.ipynb#C524\">Random Forest<a></center></td>\n",
    "        <td><center>K-means : 136</center></td>\n",
    "        <td><center>0.93</center></td>\n",
    "        <td><center><b><font color=\"red\">0.59</font></b></center></td>\n",
    "        <td><center><b><font color=\"red\">0.93</font></b></center></td>\n",
    "      </tr>\n",
    "        <tr>\n",
    "        <td><center><a href=\"projet4.ipynb#C525\">LightGBM<a></center></td>\n",
    "        <td><center>135</center></td>\n",
    "        <td><center>0.95</center></td>\n",
    "        <td><center>0.67</center></td>\n",
    "        <td><center>0.95</center></td>\n",
    "      </tr>\n",
    "        <tr>\n",
    "        <td><center><a href=\"projet4.ipynb#C525\">LightGBM<a></center></td>\n",
    "        <td><center>K-means : 136</center></td>\n",
    "        <td><center><b><font color=\"red\">0.94</font></b></center></td>\n",
    "        <td><center><b><font color=\"red\">0.63</font></b></center></td>\n",
    "        <td><center>0.95</center></td>\n",
    "      </tr>\n",
    "      <tr>\n",
    "        <td><center><a href=\"projet4.ipynb#C525\">XGBOOST<a></center></td>\n",
    "        <td><center>135</center></td>\n",
    "        <td><center>0.95</center></td>\n",
    "        <td><center>0.67</center></td>\n",
    "        <td><center>0.95</center></td>\n",
    "      </tr>\n",
    "        <tr>\n",
    "        <td><center><a href=\"projet4.ipynb#C525\">XGBOOST<a></center></td>\n",
    "        <td><center>K-means : 136</center></td>\n",
    "        <td><center><b><font color=\"red\">0.94</font></b></center></td>\n",
    "        <td><center><b><font color=\"red\">0.63</font></b></center></td>\n",
    "        <td><center>0.95</center></td>\n",
    "      </tr>\n",
    "</table>\n",
    "            \n",
    "Voici les résultats de performance suite à l'ajout de la colonne dans le dataframe principal et en relevant que les colonnes du seuil 0.01 (21 colonnes) :           \n",
    "<table>\n",
    "      <tr>\n",
    "        <th><center>Modèle</center></th>\n",
    "        <th><center>Nb colonnes</center></th>\n",
    "        <th><center>F1-score(1)</center></th>\n",
    "        <th><center>F1-score_p(1)</center></th>\n",
    "        <th><center>AUC (1)</center></th>\n",
    "      </tr>\n",
    "        <td><center><a href=\"projet4.ipynb#C524\">Random Forest<a></center></td>\n",
    "        <td><center>21</center></td>\n",
    "        <td><center>0.95</center></td>\n",
    "        <td><center>0.67</center></td>\n",
    "        <td><center>0.95</center></td>\n",
    "      </tr>\n",
    "        <tr>\n",
    "        <td><center><a href=\"projet4.ipynb#C524\">Random Forest<a></center></td>\n",
    "        <td><center>K-means : 21</center></td>\n",
    "        <td><center>0.95</center></td>\n",
    "        <td><center><b><font color=\"red\">0.65</font></b></center></td>\n",
    "        <td><center>0.95</center></td>\n",
    "      </tr>\n",
    "        <tr>\n",
    "        <td><center><a href=\"projet4.ipynb#C525\">LightGBM<a></center></td>\n",
    "        <td><center>21</center></td>\n",
    "        <td><center>0.95</center></td>\n",
    "        <td><center>0.67</center></td>\n",
    "        <td><center>0.95</center></td>\n",
    "      </tr>\n",
    "        <tr>\n",
    "        <td><center><a href=\"projet4.ipynb#C525\">LightGBM<a></center></td>\n",
    "        <td><center>K-means : 21</center></td>\n",
    "        <td><center><b><font color=\"red\">0.94</font></b></center></td>\n",
    "        <td><center><b><font color=\"red\">0.63</font></b></center></td>\n",
    "        <td><center>0.95</center></td>\n",
    "      </tr>\n",
    "      <tr>\n",
    "        <td><center><a href=\"projet4.ipynb#C525\">XGBOOST<a></center></td>\n",
    "        <td><center>21</center></td>\n",
    "        <td><center>0.95</center></td>\n",
    "        <td><center>0.67</center></td>\n",
    "        <td><center>0.95</center></td>\n",
    "      </tr>\n",
    "        <tr>\n",
    "        <td><center><a href=\"projet4.ipynb#C525\">XGBOOST<a></center></td>\n",
    "        <td><center>K-means : 21</center></td>\n",
    "        <td><center><b><font color=\"red\">0.94</font></b></center></td>\n",
    "        <td><center><b><font color=\"red\">0.63</font></b></center></td>\n",
    "        <td><center>0.95</center></td>\n",
    "      </tr>\n",
    "</table>"
   ]
  },
  {
   "cell_type": "markdown",
   "id": "a46216e8-008b-48d3-8dc4-ce0e208b85f1",
   "metadata": {},
   "source": [
    "Conclusion : perte de performance mineure sur les 3 modèles en ajoutant ce critère de notation "
   ]
  },
  {
   "cell_type": "markdown",
   "id": "8abb758e-84cd-45c8-95d3-33efe41497b3",
   "metadata": {
    "tags": []
   },
   "source": [
    "## 5.4 Bilan"
   ]
  },
  {
   "cell_type": "markdown",
   "id": "820d542d-9c2d-48a6-9f22-1f3cfc78b537",
   "metadata": {},
   "source": [
    "Les modèles Random-Forest, lightGBM et XGBoost sont les plus performants. Une meilleure tendance sur le AUC pour Random forest lors de l'ACP est visible (+0.01) mais n'enleve en rien l'efficacité des 2 autres modèles : "
   ]
  },
  {
   "cell_type": "markdown",
   "id": "c40efd5b-4ec9-4d82-9b08-d12fa353f7ef",
   "metadata": {},
   "source": [
    "<table>\n",
    "      <tr>\n",
    "        <th><center>Modèle</center></th>\n",
    "        <th><center>F1-score(1)</center></th>\n",
    "        <th><center>F1-score_p(1)</center></th>\n",
    "        <th><center>AUC</center></th>\n",
    "      </tr>\n",
    "       <tr>\n",
    "        <td><center><a href=\"projet4.ipynb#C521\">Dummy Classifier<a></center></td>\n",
    "        <td><center>0</center></td>\n",
    "        <td><center>0</center></td>\n",
    "        <td><center>0.5</center></td>\n",
    "      </tr>\n",
    "        <tr>\n",
    "        <td><center><a href=\"projet4.ipynb#C522\">Logistic Regression<a></center></td>\n",
    "        <td><center>0.7</center></td>\n",
    "        <td><center>0.3</center></td>\n",
    "        <td><center>0.7</center></td>\n",
    "      </tr>\n",
    "        <tr>\n",
    "        <td><center><a href=\"projet4.ipynb#C523\">Linear SVC<a></center></td>\n",
    "        <td><center>0.7</center></td>\n",
    "        <td><center>0.31</center></td>\n",
    "        <td><center>0.7</center></td>\n",
    "      </tr>\n",
    "        <tr>\n",
    "        <td><center><a href=\"projet4.ipynb#C524\">Random-Forest<a></center></td>\n",
    "        <td><center><b><font color=\"green\">0.95</font></b></center></td>\n",
    "        <td><center><b><font color=\"green\">0.67</font></b></center></td>\n",
    "        <td><center><b><font color=\"green\">0.95</font></b></center></td>\n",
    "      </tr>\n",
    "      <tr>\n",
    "        <td><center><a href=\"projet4.ipynb#C525\">LightGBM<a></center></td>\n",
    "        <td><center><b><font color=\"green\">0.95</font></b></center></td>\n",
    "        <td><center><b><font color=\"green\">0.67</font></b></center></td>\n",
    "        <td><center><b><font color=\"green\">0.95</font></b></center></td>\n",
    "      </tr>\n",
    "        <tr>\n",
    "        <td><center><a href=\"projet4.ipynb#C526\">XGBOOST<a></center></td>\n",
    "        <td><center><b><font color=\"green\">0.95</font></b></center></td>\n",
    "        <td><center><b><font color=\"green\">0.67</font></b></center></td>\n",
    "        <td><center><b><font color=\"green\">0.95</font></b></center></td>\n",
    "      </tr>\n",
    "</table>"
   ]
  },
  {
   "cell_type": "markdown",
   "id": "ff60b82d-7e67-4d4b-92cc-1c32fe17d500",
   "metadata": {
    "tags": []
   },
   "source": [
    "## 5.3 Recherche d'hyperparamètres"
   ]
  },
  {
   "cell_type": "markdown",
   "id": "0bb2542a-9f5d-4b77-8b50-c1de7e230547",
   "metadata": {},
   "source": [
    "Tentons maintenant de trouver les hyperparamètres du modèle \"Random Forest\" pour améliorer les scores. Partons sur un dataframe de 21 colonnes (détecté au seuil 0.01) : "
   ]
  },
  {
   "cell_type": "markdown",
   "id": "28e04246-5cb0-4b81-af40-f20edf047bc1",
   "metadata": {},
   "source": [
    "<center><img alt=\"note\" src=\"images/modeles/cf2/hyperparametres/importance.png\"></center><br>"
   ]
  },
  {
   "cell_type": "markdown",
   "id": "66d11a62-e4bb-4fd6-9d8a-e92b8614e175",
   "metadata": {},
   "source": [
    "Avec GridSearchCV (CV=5), voici les paramètres utilisés : "
   ]
  },
  {
   "cell_type": "markdown",
   "id": "b06ff7f6-3f2f-4ef0-8a09-79733e86672b",
   "metadata": {},
   "source": [
    "<center><img alt=\"param\" src=\"images/modeles/cf2/hyperparametres/gridsearchcv.png\"></center><br>"
   ]
  },
  {
   "cell_type": "markdown",
   "id": "79f49cf1-93ab-4033-8187-82bc76c742a0",
   "metadata": {},
   "source": [
    "En utilisant les paramètres en vert ci-dessus, nous avons amélioré le AUC de 0.01"
   ]
  },
  {
   "cell_type": "markdown",
   "id": "745ac72f-fcd8-4c3c-84af-c408121803b2",
   "metadata": {},
   "source": [
    "<table>\n",
    "      <tr>\n",
    "        <th><center>Modèle</center></th>\n",
    "        <th><center>F1-score(1)</center></th>\n",
    "        <th><center>F1-score_p(1)</center></th>\n",
    "        <th><center>AUC</center></th>\n",
    "      </tr>\n",
    "        <tr>\n",
    "        <td><center><a href=\"projet4.ipynb#C524\">Random Forest<a></center></td>\n",
    "        <td><center>0.95</center></td>\n",
    "        <td><center>0.67</center></td>\n",
    "        <td><center><b><font color=\"green\">0.96</font></b></center></td>\n",
    "      </tr>\n",
    "</table>"
   ]
  },
  {
   "cell_type": "markdown",
   "id": "38e962dc-9831-4021-87d6-aa08ac7f4c69",
   "metadata": {
    "tags": []
   },
   "source": [
    "# 6. CONLUSION"
   ]
  },
  {
   "cell_type": "markdown",
   "id": "525b0b60-1dfb-4537-9529-c4ea630529f3",
   "metadata": {},
   "source": [
    "Après un nettoyage du jeu de données, j'ai effectué des analyses multivariées puis univariées. Suite à ces analyses j'ai créé et analysé 6 modèles différents (3 linéaires et 3 non linéaires) et j'ai ainsi pu comparer leurs performances sur le jeu de données : F1_score, F1_pondéré (poids plus fort sur la détection de faux négatifs) et AUC. Après analyse des \"features importance\" sur le modèle Random Forest Classifier, j'ai pu réduire le jeu de données et ainsi augmenter la performance des 3 modèles non linéaires. De plus la création de nouvelles colonnes (features engineering) avec l'ACP, Polynomiale features et K-Means, m'a permis de constater l'impact des colonnes construites sur les modèles : l'ACP apporte une augmentation de la performance sur Random_Forest. Au global le modèle obtenu avec Random Forest est le plus performant. Suite à cette sélection, j'ai tenté de définir si mon modèle pouvait être plus performant grâce à GRIDSearchCV; ce qui est le cas.<br>\n",
    "Le modèle Random Forest est donc optimisé pour permettre de prédire si un client remboursera ou non un prêt.<br>\n",
    "Perspectives :<br>\n",
    "-Création d’une IHM pour permettre l’application de nos prédictions<br>\n",
    "-Test d’un modèle complémentaire pour observer une nouvelle performance : réseaux de neurones"
   ]
  },
  {
   "cell_type": "markdown",
   "id": "ce641b85-97a6-4711-bd08-49e6da27252c",
   "metadata": {},
   "source": [
    "# FIN"
   ]
  }
 ],
 "metadata": {
  "extensions": {
   "jupyter_dashboards": {
    "activeView": "grid_default",
    "version": 1,
    "views": {
     "grid_default": {
      "cellMargin": 2,
      "defaultCellHeight": 40,
      "maxColumns": 12,
      "name": "grid",
      "type": "grid"
     }
    }
   }
  },
  "kernelspec": {
   "display_name": "Python 3 (ipykernel)",
   "language": "python",
   "name": "python3"
  },
  "language_info": {
   "codemirror_mode": {
    "name": "ipython",
    "version": 3
   },
   "file_extension": ".py",
   "mimetype": "text/x-python",
   "name": "python",
   "nbconvert_exporter": "python",
   "pygments_lexer": "ipython3",
   "version": "3.10.8"
  }
 },
 "nbformat": 4,
 "nbformat_minor": 5
}
